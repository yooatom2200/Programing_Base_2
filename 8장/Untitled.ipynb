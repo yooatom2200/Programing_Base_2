{
 "cells": [
  {
   "cell_type": "markdown",
   "id": "44700dfa",
   "metadata": {},
   "source": [
    "# 배열 생성 예"
   ]
  },
  {
   "cell_type": "code",
   "execution_count": 13,
   "id": "ee150ccc",
   "metadata": {},
   "outputs": [
    {
     "name": "stdout",
     "output_type": "stream",
     "text": [
      "[ 1  2  3  4  5  6  7  8  9 10]\n",
      "4\n",
      "[4 5 6]\n",
      "(10,)\n",
      "int64\n",
      "------------------------------\n",
      "[[1.  2.  3. ]\n",
      " [4.4 5.5 6.6]]\n",
      "[4.4 5.5 6.6]\n",
      "6.6\n",
      "6.6\n",
      "(2, 3)\n",
      "float64\n",
      "2\n",
      "6\n",
      "------------------------------\n",
      "[[[ 1  2  3  4]\n",
      "  [ 5  6  7  8]\n",
      "  [ 9 10 11 12]]\n",
      "\n",
      " [[11 12 13 14]\n",
      "  [15 16 17 18]\n",
      "  [19 20 21 22]]]\n",
      "[[ 1  2  3  4]\n",
      " [ 5  6  7  8]\n",
      " [ 9 10 11 12]]\n",
      "[19 20 21 22]\n",
      "19\n",
      "19\n",
      "(2, 3, 4)\n",
      "int64\n",
      "3\n",
      "24\n"
     ]
    }
   ],
   "source": [
    "import numpy as np\n",
    "\n",
    "arr1 = np.array([1,2,3,4,5,6,7,8,9,10])\n",
    "print(arr1)\n",
    "print(arr1[3])\n",
    "print(arr1[3:6])\n",
    "print(arr1.shape)\n",
    "print(arr1.dtype)\n",
    "print(\"------------------------------\")\n",
    "arr2 = np.array([[1.0,2.0,3.0],[4.4,5.5,6.6]])\n",
    "print(arr2)\n",
    "print(arr2[1])\n",
    "print(arr2[1,2])\n",
    "print(arr2[1][2])\n",
    "print(arr2.shape)\n",
    "print(arr2.dtype)\n",
    "print(arr2.ndim)\n",
    "print(arr2.size)\n",
    "print(\"------------------------------\")\n",
    "arr3 = np.array([[[1,2,3,4],[5,6,7,8],[9,10,11,12]],\n",
    "                 [[11,12,13,14],[15,16,17,18],[19,20,21,22]]])\n",
    "print(arr3)\n",
    "print(arr3[0])\n",
    "print(arr3[1,2])\n",
    "print(arr3[1,2,0])\n",
    "print(arr3[1][2][0])4\n",
    "print(arr3.shape)\n",
    "print(arr3.dtype)\n",
    "print(arr3.ndim)\n",
    "print(arr3.size)"
   ]
  },
  {
   "cell_type": "markdown",
   "id": "ca906d85",
   "metadata": {},
   "source": [
    "# 배열 초기화 생성 예"
   ]
  },
  {
   "cell_type": "code",
   "execution_count": 2,
   "id": "93c66079",
   "metadata": {},
   "outputs": [
    {
     "name": "stdout",
     "output_type": "stream",
     "text": [
      "shape: (3, 4), dimension: 2, dtype:float64\n",
      "Array's Data:\n",
      " [[0. 0. 0. 0.]\n",
      " [0. 0. 0. 0.]\n",
      " [0. 0. 0. 0.]]\n",
      "------------------------------\n",
      "shape: (2, 3, 4), dimension: 3, dtype:int16\n",
      "Array's Data:\n",
      " [[[1 1 1 1]\n",
      "  [1 1 1 1]\n",
      "  [1 1 1 1]]\n",
      "\n",
      " [[1 1 1 1]\n",
      "  [1 1 1 1]\n",
      "  [1 1 1 1]]]\n",
      "------------------------------\n",
      "shape: (2, 2), dimension: 2, dtype:int64\n",
      "Array's Data:\n",
      " [[7 7]\n",
      " [7 7]]\n",
      "------------------------------\n",
      "shape: (4, 2), dimension: 2, dtype:float64\n",
      "Array's Data:\n",
      " [[2.68156159e+154 2.68156159e+154]\n",
      " [2.68156159e+154 2.68156159e+154]\n",
      " [3.95252517e-323 0.00000000e+000]\n",
      " [0.00000000e+000 0.00000000e+000]]\n",
      "------------------------------\n",
      "shape: (2, 3), dimension: 2, dtype:int64\n",
      "Array's Data:\n",
      " [[1 1 1]\n",
      " [1 1 1]]\n"
     ]
    }
   ],
   "source": [
    "import numpy as np\n",
    "\n",
    "def pprint(arr):\n",
    "    print(\"shape: {}, dimension: {}, dtype:{}\".format(arr.shape, arr.ndim, arr.dtype))\n",
    "    print(\"Array's Data:\\n\", arr)\n",
    "    \n",
    "a = np.zeros((3, 4))\n",
    "pprint(a)\n",
    "print(\"------------------------------\")\n",
    "a = np.ones((2,3,4),dtype=np.int16)\n",
    "pprint(a)\n",
    "print(\"------------------------------\")\n",
    "a = np.full((2,2),7)\n",
    "pprint(a)\n",
    "print(\"------------------------------\")\n",
    "a = np.empty((4,2))\n",
    "pprint(a)\n",
    "print(\"------------------------------\")\n",
    "a = np.array([[1,2,3], [4,5,6]])\n",
    "b = np.ones_like(a)\n",
    "pprint(b)"
   ]
  },
  {
   "cell_type": "markdown",
   "id": "5cce3978",
   "metadata": {},
   "source": [
    "# 배열 연산 - 산술 비교 연산"
   ]
  },
  {
   "cell_type": "code",
   "execution_count": 3,
   "id": "3faeaa77",
   "metadata": {},
   "outputs": [
    {
     "name": "stdout",
     "output_type": "stream",
     "text": [
      "shape: (3, 3), dimension: 2, dtype:int64\n",
      "a’s data =>\n",
      "[[1 2 3]\n",
      " [4 5 6]\n",
      " [7 8 9]]\n",
      "------------------------------\n",
      "shape: (3, 3), dimension: 2, dtype:int64\n",
      "b's data =>\n",
      "[[9 8 7]\n",
      " [6 5 4]\n",
      " [3 2 1]]\n",
      "------------------------------\n",
      "shape: (3, 3), dimension: 2, dtype:int64\n",
      "c = a + b =>\n",
      "[[10 10 10]\n",
      " [10 10 10]\n",
      " [10 10 10]]\n",
      "------------------------------\n",
      "shape: (3, 3), dimension: 2, dtype:int64\n",
      "d = a * b =>\n",
      "[[ 9 16 21]\n",
      " [24 25 24]\n",
      " [21 16  9]]\n",
      "------------------------------\n",
      "shape: (3, 3), dimension: 2, dtype:bool\n",
      "e = a != b =>\n",
      "[[ True  True  True]\n",
      " [ True False  True]\n",
      " [ True  True  True]]\n",
      "------------------------------\n",
      "shape: (3, 3), dimension: 2, dtype:bool\n",
      "f = a >= b =>\n",
      "[[False False False]\n",
      " [False  True  True]\n",
      " [ True  True  True]]\n"
     ]
    }
   ],
   "source": [
    "import numpy as np\n",
    "\n",
    "def pprint(arr, s):\n",
    "    print(\"shape: {}, dimension: {}, dtype:{}\".format(arr.shape, arr.ndim, arr.dtype))\n",
    "    print(s)\n",
    "    print(arr)\n",
    "    \n",
    "a = np.array([[1, 2, 3], [4, 5, 6], [7, 8, 9]])\n",
    "pprint(a, \"a’s data =>\")\n",
    "print(\"------------------------------\")\n",
    "b = np.array([[9, 8, 7], [6, 5, 4], [3, 2, 1]])\n",
    "pprint(b, \"b's data =>\")\n",
    "print(\"------------------------------\")\n",
    "c = a + b\n",
    "pprint(c, \"c = a + b =>\")\n",
    "print(\"------------------------------\")\n",
    "d = a * b\n",
    "pprint(d, \"d = a * b =>\")\n",
    "print(\"------------------------------\")\n",
    "e = a != b\n",
    "pprint(e, \"e = a != b =>\")\n",
    "print(\"------------------------------\")\n",
    "f = a >= b\n",
    "pprint(f, \"f = a >= b =>\")"
   ]
  },
  {
   "cell_type": "markdown",
   "id": "a0f99b56",
   "metadata": {},
   "source": [
    "# 배열 연산 - 수학 함수"
   ]
  },
  {
   "cell_type": "code",
   "execution_count": 4,
   "id": "f89f3530",
   "metadata": {},
   "outputs": [
    {
     "name": "stdout",
     "output_type": "stream",
     "text": [
      "shape: (3, 3), dimension: 2, dtype:float64\n",
      "h = np.sqrt(a) =>\n",
      "[[1.         1.41421356 1.73205081]\n",
      " [2.         2.23606798 2.44948974]\n",
      " [2.64575131 2.82842712 3.        ]]\n",
      "------------------------------\n",
      "shape: (3, 3), dimension: 2, dtype:float64\n",
      "g = np.cos(a) =>\n",
      "[[ 0.54030231 -0.41614684 -0.9899925 ]\n",
      " [-0.65364362  0.28366219  0.96017029]\n",
      " [ 0.75390225 -0.14550003 -0.91113026]]\n",
      "------------------------------\n",
      "shape: (3, 3), dimension: 2, dtype:int64\n",
      "m = np.dot(a, b) =>\n",
      "[[ 30  24  18]\n",
      " [ 84  69  54]\n",
      " [138 114  90]]\n"
     ]
    }
   ],
   "source": [
    "h = np.sqrt(a)\n",
    "pprint(h, \"h = np.sqrt(a) =>\")\n",
    "print(\"------------------------------\")\n",
    "g = np.cos(a)\n",
    "pprint(g, \"g = np.cos(a) =>\")\n",
    "print(\"------------------------------\")\n",
    "m = np.dot(a, b)\n",
    "pprint(m, \"m = np.dot(a, b) =>\")"
   ]
  },
  {
   "cell_type": "markdown",
   "id": "9ec667f8",
   "metadata": {},
   "source": [
    "# 배열 연산 - 집계 함수 예 1"
   ]
  },
  {
   "cell_type": "code",
   "execution_count": 5,
   "id": "b6bb80cb",
   "metadata": {},
   "outputs": [
    {
     "name": "stdout",
     "output_type": "stream",
     "text": [
      "shape: (), dimension: 0, dtype:int64\n",
      "s_none = a.sum() =>\n",
      "45\n",
      "------------------------------\n",
      "shape: (3,), dimension: 1, dtype:int64\n",
      "s_0 = a.sum(axis=0) =>\n",
      "[12 15 18]\n",
      "------------------------------\n",
      "shape: (3,), dimension: 1, dtype:int64\n",
      "s_1 = a.sum(axis=1) =>\n",
      "[ 6 15 24]\n",
      "------------------------------\n",
      "shape: (), dimension: 0, dtype:int64\n",
      "mx_none = a.max() =>\n",
      "9\n",
      "------------------------------\n",
      "shape: (3,), dimension: 1, dtype:int64\n",
      "mx_0 = a.max(axis=0) =>\n",
      "[7 8 9]\n",
      "------------------------------\n",
      "shape: (3,), dimension: 1, dtype:int64\n",
      "mx_1 = a.max(axis=1) =>\n",
      "[3 6 9]\n",
      "------------------------------\n",
      "shape: (), dimension: 0, dtype:float64\n",
      "mn_none = a.mean() =>\n",
      "5.0\n",
      "------------------------------\n",
      "shape: (3,), dimension: 1, dtype:float64\n",
      "mn_none = a.mean(axis=0) =>\n",
      "[4. 5. 6.]\n",
      "------------------------------\n",
      "shape: (3,), dimension: 1, dtype:float64\n",
      "mn_none = a.mean(axis=1) =>\n",
      "[2. 5. 8.]\n"
     ]
    }
   ],
   "source": [
    "s_none = a.sum()\n",
    "pprint(s_none, \"s_none = a.sum() =>\")\n",
    "print(\"------------------------------\")\n",
    "s_0 = a.sum(axis=0)\n",
    "pprint(s_0, \"s_0 = a.sum(axis=0) =>\")\n",
    "print(\"------------------------------\")\n",
    "s_1 = a.sum(axis=1)\n",
    "pprint(s_1, \"s_1 = a.sum(axis=1) =>\")\n",
    "print(\"------------------------------\")\n",
    "mx_none = a.max()\n",
    "pprint(mx_none, \"mx_none = a.max() =>\")\n",
    "print(\"------------------------------\")\n",
    "mx_0 = a.max(axis=0)\n",
    "pprint(mx_0, \"mx_0 = a.max(axis=0) =>\")\n",
    "print(\"------------------------------\")\n",
    "mx_1 = a.max(axis=1)\n",
    "pprint(mx_1, \"mx_1 = a.max(axis=1) =>\")\n",
    "print(\"------------------------------\")\n",
    "mn_none = a.mean()\n",
    "pprint(mn_none, \"mn_none = a.mean() =>\")\n",
    "print(\"------------------------------\")\n",
    "mn_0 = a.mean(axis=0)\n",
    "pprint(mn_0, \"mn_none = a.mean(axis=0) =>\")\n",
    "print(\"------------------------------\")\n",
    "mn_1 = a.mean(axis=1)\n",
    "pprint(mn_1, \"mn_none = a.mean(axis=1) =>\")"
   ]
  },
  {
   "cell_type": "markdown",
   "id": "7df062a4",
   "metadata": {},
   "source": [
    "# 배열 연산 - 집계 함수 예 2"
   ]
  },
  {
   "cell_type": "code",
   "execution_count": 6,
   "id": "90fee21a",
   "metadata": {},
   "outputs": [
    {
     "name": "stdout",
     "output_type": "stream",
     "text": [
      "shape: (), dimension: 0, dtype:int64\n",
      "agx = a.argmax() =>\n",
      "8\n",
      "------------------------------\n",
      "shape: (), dimension: 0, dtype:int64\n",
      "agn = a.argmin() =>\n",
      "0\n",
      "------------------------------\n",
      "shape: (3,), dimension: 1, dtype:int64\n",
      "agx0 = a.argmax(axis=0) =>\n",
      "[2 2 2]\n",
      "------------------------------\n",
      "shape: (3,), dimension: 1, dtype:int64\n",
      "agn1 = a.argmin(axis=1) =>\n",
      "[0 0 0]\n",
      "------------------------------\n",
      "shape: (9,), dimension: 1, dtype:int64\n",
      "cs = a.cumsum() => \n",
      "[ 1  3  6 10 15 21 28 36 45]\n",
      "------------------------------\n",
      "shape: (3, 3), dimension: 2, dtype:int64\n",
      "cs1 = a.cumsum(axis=1) =>\n",
      "[[ 1  3  6]\n",
      " [ 4  9 15]\n",
      " [ 7 15 24]]\n"
     ]
    }
   ],
   "source": [
    "agx = a.argmax()\n",
    "pprint(agx, \"agx = a.argmax() =>\")\n",
    "print(\"------------------------------\")\n",
    "agn = a.argmin()\n",
    "pprint(agn, \"agn = a.argmin() =>\")\n",
    "print(\"------------------------------\")\n",
    "agx0 = a.argmax(axis=0)\n",
    "pprint(agx0, \"agx0 = a.argmax(axis=0) =>\")\n",
    "print(\"------------------------------\")\n",
    "agn1 = a.argmin(axis=1)\n",
    "pprint(agn1, \"agn1 = a.argmin(axis=1) =>\")\n",
    "print(\"------------------------------\")\n",
    "cs = a.cumsum()\n",
    "pprint(cs, \"cs = a.cumsum() => \")\n",
    "print(\"------------------------------\")\n",
    "cs1 = a.cumsum(axis=1)\n",
    "pprint(cs1, \"cs1 = a.cumsum(axis=1) =>\")"
   ]
  },
  {
   "cell_type": "markdown",
   "id": "5083ac81",
   "metadata": {},
   "source": [
    "# 브로드 캐스팅 예"
   ]
  },
  {
   "cell_type": "code",
   "execution_count": 7,
   "id": "408c46da",
   "metadata": {},
   "outputs": [
    {
     "name": "stdout",
     "output_type": "stream",
     "text": [
      "shape: (4, 3), dimension: 2, dtype:int64\n",
      "a =>\n",
      "[[ 0  0  0]\n",
      " [10 10 10]\n",
      " [20 20 20]\n",
      " [30 30 30]]\n",
      "------------------------------\n",
      "shape: (4, 3), dimension: 2, dtype:int64\n",
      "b =>\n",
      "[[0 1 2]\n",
      " [0 1 2]\n",
      " [0 1 2]\n",
      " [0 1 2]]\n",
      "------------------------------\n",
      "shape: (4, 3), dimension: 2, dtype:int64\n",
      "c =>\n",
      "[[ 0  1  2]\n",
      " [10 11 12]\n",
      " [20 21 22]\n",
      " [30 31 32]]\n",
      "------------------------------\n",
      "shape: (1, 3), dimension: 2, dtype:int64\n",
      "b1 =>\n",
      "[[0 1 2]]\n",
      "------------------------------\n",
      "shape: (4, 3), dimension: 2, dtype:int64\n",
      "c1 =>\n",
      "[[ 0  1  2]\n",
      " [10 11 12]\n",
      " [20 21 22]\n",
      " [30 31 32]]\n",
      "------------------------------\n",
      "shape: (4, 1), dimension: 2, dtype:int64\n",
      " a1 =>\n",
      "[[ 0]\n",
      " [10]\n",
      " [20]\n",
      " [30]]\n",
      "------------------------------\n",
      "shape: (4, 3), dimension: 2, dtype:int64\n",
      "c2 =>\n",
      "[[ 0  1  2]\n",
      " [10 11 12]\n",
      " [20 21 22]\n",
      " [30 31 32]]\n"
     ]
    }
   ],
   "source": [
    "import numpy as np\n",
    "\n",
    "def pprint(arr, s):\n",
    "    print(\"shape: {}, dimension: {}, dtype:{}\".format(arr.shape, arr.ndim, arr.dtype))\n",
    "    print(s)\n",
    "    print(arr)\n",
    "    \n",
    "a = np.array([[0, 0, 0], [10, 10, 10], [20, 20, 20], [30, 30, 30]])\n",
    "pprint(a, \"a =>\")\n",
    "print(\"------------------------------\")\n",
    "b = np.array([[0, 1, 2], [0, 1, 2], [0, 1, 2], [0, 1, 2]])\n",
    "pprint(b, \"b =>\")\n",
    "print(\"------------------------------\")\n",
    "c = a + b\n",
    "pprint(c, \"c =>\")\n",
    "print(\"------------------------------\")\n",
    "b1 = np.array([[0, 1, 2]])\n",
    "pprint(b1, \"b1 =>\")\n",
    "print(\"------------------------------\")\n",
    "c1 = a + b1\n",
    "pprint(c1, \"c1 =>\")\n",
    "print(\"------------------------------\")\n",
    "a1 = np.array([[0], [10], [20], [30]])\n",
    "pprint(a1, \" a1 =>\")\n",
    "print(\"------------------------------\")\n",
    "c2 = a1 + b;\n",
    "pprint(c1, \"c2 =>\")"
   ]
  },
  {
   "cell_type": "markdown",
   "id": "321aab9b",
   "metadata": {},
   "source": [
    "# 슬라이싱 예"
   ]
  },
  {
   "cell_type": "code",
   "execution_count": 14,
   "id": "fc68d7fc",
   "metadata": {},
   "outputs": [
    {
     "name": "stdout",
     "output_type": "stream",
     "text": [
      "shape: (4, 6), dimension: 2, dtype:int64\n",
      "a1 =>\n",
      "[[ 1  2  3  4  5  6]\n",
      " [ 7  8  9 10 11 12]\n",
      " [13 14 15 16 17 18]\n",
      " [19 20 21 22 23 24]]\n",
      "------------------------------\n",
      "shape: (2, 4), dimension: 2, dtype:int64\n",
      "s1 =>\n",
      "[[ 8  9 10 11]\n",
      " [14 15 16 17]]\n",
      "------------------------------\n",
      "shape: (2, 4), dimension: 2, dtype:int64\n",
      "s1 =>\n",
      "[[ 8  9 10 11]\n",
      " [14 15 16 17]]\n",
      "------------------------------\n",
      "shape: (2, 2), dimension: 2, dtype:int64\n",
      "ss1 =>\n",
      "[[ 9 10]\n",
      " [15 16]]\n",
      "------------------------------\n",
      "shape: (4, 6), dimension: 2, dtype:int64\n",
      "b1 =>\n",
      "[[ 1  2  3  4  5  6]\n",
      " [ 7  8  9 10 11 12]\n",
      " [13 14 15 16 17 18]\n",
      " [19 20 21 22 23 24]]\n",
      "------------------------------\n",
      "shape: (2, 4), dimension: 2, dtype:int64\n",
      "s1 => \n",
      "[[    8 99999 99999    11]\n",
      " [   14 99999 99999    17]]\n",
      "shape: (4, 6), dimension: 2, dtype:int64\n",
      "a1 =>\n",
      "[[    1     2     3     4     5     6]\n",
      " [    7     8 99999 99999    11    12]\n",
      " [   13    14 99999 99999    17    18]\n",
      " [   19    20    21    22    23    24]]\n",
      "shape: (4, 6), dimension: 2, dtype:int64\n",
      "b1 =>\n",
      "[[ 1  2  3  4  5  6]\n",
      " [ 7  8  9 10 11 12]\n",
      " [13 14 15 16 17 18]\n",
      " [19 20 21 22 23 24]]\n"
     ]
    }
   ],
   "source": [
    "import numpy as np\n",
    "\n",
    "def pprint(arr, s):\n",
    "    print(\"shape: {}, dimension: {}, dtype:{}\".format(arr.shape, arr.ndim, arr.dtype))\n",
    "    print(s)\n",
    "    print(arr)\n",
    "    \n",
    "a1 = np.arange(1, 25).reshape((4, 6))\n",
    "pprint(a1, \"a1 =>\")\n",
    "print(\"------------------------------\")\n",
    "s1 = a1[1:3, 1:5]\n",
    "pprint(s1, \"s1 =>\")\n",
    "print(\"------------------------------\")\n",
    "s1 = a1[1:-1, 1:-1]\n",
    "pprint(s1, \"s1 =>\")\n",
    "print(\"------------------------------\")\n",
    "ss1 = s1[:, 1:3]\n",
    "pprint(ss1, \"ss1 =>\")\n",
    "print(\"------------------------------\")\n",
    "b1 = np.copy(a1)\n",
    "pprint(a1, \"b1 =>\")\n",
    "print(\"------------------------------\")\n",
    "s1[:, 1:3]=99999\n",
    "pprint(s1, \"s1 => \")\n",
    "pprint(a1, \"a1 =>\")\n",
    "pprint(b1, \"b1 =>\")"
   ]
  },
  {
   "cell_type": "markdown",
   "id": "aec69703",
   "metadata": {},
   "source": [
    "# matplotlib - SIN, TAN 그래프 그리기"
   ]
  },
  {
   "cell_type": "code",
   "execution_count": 9,
   "id": "bf40d258",
   "metadata": {},
   "outputs": [
    {
     "name": "stdout",
     "output_type": "stream",
     "text": [
      "shape: (95,), dimension: 1, dtype:float64\n",
      "x =>\n",
      "[0.  0.1 0.2 0.3 0.4 0.5 0.6 0.7 0.8 0.9 1.  1.1 1.2 1.3 1.4 1.5 1.6 1.7\n",
      " 1.8 1.9 2.  2.1 2.2 2.3 2.4 2.5 2.6 2.7 2.8 2.9 3.  3.1 3.2 3.3 3.4 3.5\n",
      " 3.6 3.7 3.8 3.9 4.  4.1 4.2 4.3 4.4 4.5 4.6 4.7 4.8 4.9 5.  5.1 5.2 5.3\n",
      " 5.4 5.5 5.6 5.7 5.8 5.9 6.  6.1 6.2 6.3 6.4 6.5 6.6 6.7 6.8 6.9 7.  7.1\n",
      " 7.2 7.3 7.4 7.5 7.6 7.7 7.8 7.9 8.  8.1 8.2 8.3 8.4 8.5 8.6 8.7 8.8 8.9\n",
      " 9.  9.1 9.2 9.3 9.4]\n",
      "------------------------------\n"
     ]
    },
    {
     "data": {
      "image/png": "[encoded data removed]",
      "text/plain": [
       "<Figure size 432x288 with 1 Axes>"
      ]
     },
     "metadata": {
      "needs_background": "light"
     },
     "output_type": "display_data"
    },
    {
     "name": "stdout",
     "output_type": "stream",
     "text": [
      "------------------------------\n"
     ]
    },
    {
     "data": {
      "image/png": "[encoded data removed]",
      "text/plain": [
       "<Figure size 432x288 with 1 Axes>"
      ]
     },
     "metadata": {
      "needs_background": "light"
     },
     "output_type": "display_data"
    }
   ],
   "source": [
    "import numpy as np\n",
    "import matplotlib.pyplot as plt\n",
    "\n",
    "def pprint(arr, s):\n",
    "    print(\"shape: {}, dimension: {}, dtype:{}\".format(arr.shape, arr.ndim, arr.dtype))\n",
    "    print(s)\n",
    "    print(arr)\n",
    "    \n",
    "x = np.arange(0, 3*np.pi, 0.1)\n",
    "pprint(x, \"x =>\")\n",
    "print(\"------------------------------\")\n",
    "y = np.sin(x)\n",
    "plt.plot(x,y)\n",
    "plt.show()\n",
    "print(\"------------------------------\")\n",
    "y1 = np.tan(x)\n",
    "plt.plot(x,y1)\n",
    "plt.show()"
   ]
  },
  {
   "cell_type": "markdown",
   "id": "15ab3593",
   "metadata": {},
   "source": [
    "# 계단 오르내리기 예제 - 파이썬"
   ]
  },
  {
   "cell_type": "code",
   "execution_count": 10,
   "id": "762c412d",
   "metadata": {},
   "outputs": [
    {
     "data": {
      "image/png": "[encoded data removed]",
      "text/plain": [
       "<Figure size 432x288 with 1 Axes>"
      ]
     },
     "metadata": {
      "needs_background": "light"
     },
     "output_type": "display_data"
    }
   ],
   "source": [
    "import random\n",
    "import matplotlib.pyplot as plt\n",
    "\n",
    "position = 0\n",
    "walk = []\n",
    "steps = 100\n",
    "for i in range(steps):\n",
    "    if random.randint(0, 1):\n",
    "        step = 1\n",
    "    else:\n",
    "        step = -1\n",
    "    position += step\n",
    "    walk.append(position)\n",
    "\n",
    "x = range(steps)\n",
    "plt.title(\"Random walk with +1/-1 steps\")\n",
    "plt.plot(x, walk)\n",
    "plt.show()"
   ]
  },
  {
   "cell_type": "markdown",
   "id": "e8bf6372",
   "metadata": {},
   "source": [
    "# 계단 오르내리기 예제 - NumPy"
   ]
  },
  {
   "cell_type": "code",
   "execution_count": 11,
   "id": "a027017c",
   "metadata": {},
   "outputs": [
    {
     "name": "stdout",
     "output_type": "stream",
     "text": [
      "shape: (100,), dimension: 1, dtype:int64\n",
      "draws => \n",
      "[1 1 0 1 1 1 0 0 1 0 0 0 1 1 0 0 0 0 1 0 0 0 0 1 0 0 1 0 1 1 0 1 0 0 0 1 1\n",
      " 0 0 1 0 0 0 0 0 1 1 1 0 0 0 1 1 1 1 1 0 1 0 0 1 1 0 1 1 1 1 0 1 0 0 0 1 0\n",
      " 0 0 1 0 1 0 0 1 0 0 1 0 0 1 0 0 0 0 1 1 0 1 0 0 0 0]\n",
      "------------------------------\n",
      "shape: (100,), dimension: 1, dtype:int64\n",
      "steps => \n",
      "[ 1  1 -1  1  1  1 -1 -1  1 -1 -1 -1  1  1 -1 -1 -1 -1  1 -1 -1 -1 -1  1\n",
      " -1 -1  1 -1  1  1 -1  1 -1 -1 -1  1  1 -1 -1  1 -1 -1 -1 -1 -1  1  1  1\n",
      " -1 -1 -1  1  1  1  1  1 -1  1 -1 -1  1  1 -1  1  1  1  1 -1  1 -1 -1 -1\n",
      "  1 -1 -1 -1  1 -1  1 -1 -1  1 -1 -1  1 -1 -1  1 -1 -1 -1 -1  1  1 -1  1\n",
      " -1 -1 -1 -1]\n",
      "------------------------------\n",
      "shape: (100,), dimension: 1, dtype:int64\n",
      "walk => \n",
      "[  1   2   1   2   3   4   3   2   3   2   1   0   1   2   1   0  -1  -2\n",
      "  -1  -2  -3  -4  -5  -4  -5  -6  -5  -6  -5  -4  -5  -4  -5  -6  -7  -6\n",
      "  -5  -6  -7  -6  -7  -8  -9 -10 -11 -10  -9  -8  -9 -10 -11 -10  -9  -8\n",
      "  -7  -6  -7  -6  -7  -8  -7  -6  -7  -6  -5  -4  -3  -4  -3  -4  -5  -6\n",
      "  -5  -6  -7  -8  -7  -8  -7  -8  -9  -8  -9 -10  -9 -10 -11 -10 -11 -12\n",
      " -13 -14 -13 -12 -13 -12 -13 -14 -15 -16]\n",
      "------------------------------\n"
     ]
    },
    {
     "data": {
      "image/png": "[encoded data removed]",
      "text/plain": [
       "<Figure size 432x288 with 1 Axes>"
      ]
     },
     "metadata": {
      "needs_background": "light"
     },
     "output_type": "display_data"
    }
   ],
   "source": [
    "import numpy as np\n",
    "import matplotlib.pyplot as plt\n",
    "\n",
    "def pprint(arr, s):\n",
    "    print(\"shape: {}, dimension: {}, dtype:{}\".format(arr.shape, arr.ndim, arr.dtype))\n",
    "    print(s)\n",
    "    print(arr)\n",
    "    \n",
    "nsteps = 100\n",
    "\n",
    "draws = np.random.randint(0, 2, size=nsteps)\n",
    "pprint(draws, \"draws => \")\n",
    "print(\"------------------------------\")\n",
    "steps = np.where(draws > 0, 1, -1)\n",
    "pprint(steps, \"steps => \")\n",
    "print(\"------------------------------\")\n",
    "walk = steps.cumsum()\n",
    "pprint(walk, \"walk => \")\n",
    "print(\"------------------------------\")\n",
    "x = range(nsteps)\n",
    "plt.title(\"Random walk with +1/-1 steps\")\n",
    "plt.plot(x, walk)\n",
    "plt.show()"
   ]
  },
  {
   "cell_type": "markdown",
   "id": "56060f2d",
   "metadata": {},
   "source": [
    "# 계단 오르내리기 예제 2 - NumPy"
   ]
  },
  {
   "cell_type": "code",
   "execution_count": 15,
   "id": "be432511",
   "metadata": {},
   "outputs": [
    {
     "name": "stdout",
     "output_type": "stream",
     "text": [
      "max =>  4\n",
      "min =>  -16\n",
      "------------------------------\n",
      "shape: (100,), dimension: 1, dtype:bool\n",
      "hist5 => \n",
      "[False False False False False False False False False False False False\n",
      " False False False False False False False False False False  True False\n",
      "  True  True  True  True  True False  True False  True  True  True  True\n",
      "  True  True  True  True  True  True  True  True  True  True  True  True\n",
      "  True  True  True  True  True  True  True  True  True  True  True  True\n",
      "  True  True  True  True  True False False False False False  True  True\n",
      "  True  True  True  True  True  True  True  True  True  True  True  True\n",
      "  True  True  True  True  True  True  True  True  True  True  True  True\n",
      "  True  True  True  True]\n",
      "hist5 # =>  70\n",
      "first pos over 5 =>  22\n"
     ]
    }
   ],
   "source": [
    "print(\"max => \", walk.max())\n",
    "print(\"min => \", walk.min())\n",
    "print(\"------------------------------\")\n",
    "hist5 = (np.abs(walk) >= 5)\n",
    "pprint(hist5, \"hist5 => \")\n",
    "print(\"hist5 # => \", hist5.sum())\n",
    "print(\"first pos over 5 => \", hist5.argmax())"
   ]
  },
  {
   "cell_type": "markdown",
   "id": "303bfcf9",
   "metadata": {},
   "source": [
    "# "
   ]
  }
 ],
 "metadata": {
  "kernelspec": {
   "display_name": "Python 3",
   "language": "python",
   "name": "python3"
  },
  "language_info": {
   "codemirror_mode": {
    "name": "ipython",
    "version": 3
   },
   "file_extension": ".py",
   "mimetype": "text/x-python",
   "name": "python",
   "nbconvert_exporter": "python",
   "pygments_lexer": "ipython3",
   "version": "3.8.8"
  }
 },
 "nbformat": 4,
 "nbformat_minor": 5
}
