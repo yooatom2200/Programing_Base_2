{
 "cells": [
  {
   "cell_type": "markdown",
   "id": "d9793971",
   "metadata": {},
   "source": [
    "# 원두가격 동적 웹사이트 예"
   ]
  },
  {
   "cell_type": "code",
   "execution_count": 1,
   "id": "38a6fa00",
   "metadata": {},
   "outputs": [
    {
     "name": "stdout",
     "output_type": "stream",
     "text": [
      " * Serving Flask app \"__main__\" (lazy loading)\n",
      " * Environment: production\n",
      "\u001b[31m   WARNING: This is a development server. Do not use it in a production deployment.\u001b[0m\n",
      "\u001b[2m   Use a production WSGI server instead.\u001b[0m\n",
      " * Debug mode: off\n"
     ]
    },
    {
     "name": "stderr",
     "output_type": "stream",
     "text": [
      " * Running on http://127.0.0.1:5000/ (Press CTRL+C to quit)\n",
      "127.0.0.1 - - [23/Sep/2021 20:59:48] \"\u001b[37mGET /prices HTTP/1.1\u001b[0m\" 200 -\n",
      "127.0.0.1 - - [23/Sep/2021 21:00:38] \"\u001b[37mGET /prices HTTP/1.1\u001b[0m\" 200 -\n",
      "127.0.0.1 - - [23/Sep/2021 21:01:00] \"\u001b[37mGET /prices HTTP/1.1\u001b[0m\" 200 -\n",
      "127.0.0.1 - - [23/Sep/2021 21:06:43] \"\u001b[37mGET /prices HTTP/1.1\u001b[0m\" 200 -\n"
     ]
    }
   ],
   "source": [
    "from flask import Flask, render_template\n",
    "\n",
    "#플라스크 객체 생성\n",
    "app = Flask(__name__)\n",
    "\n",
    "# 라우팅 경로 요청시 실행 함수\n",
    "@app.route(\"/prices\") # 기본경로(localhost:5000)에서 /prices 추가 경로\n",
    "def prices():\n",
    "    import random\n",
    "    import time\n",
    "    \n",
    "    p = random.uniform(4,7)\n",
    "    price = round(p, 2)\n",
    "    daytime = time.asctime()\n",
    "    \n",
    "    #prices.html에 pr과 dt변수 제공하여 렌더링\n",
    "    return render_template(\"prices.html\", pr = price, dt = daytime)\n",
    "\n",
    "#플라스크 서버 구동\n",
    "if __name__ == \"__main__\":\n",
    "    app.run()"
   ]
  },
  {
   "cell_type": "markdown",
   "id": "60826157",
   "metadata": {},
   "source": [
    "# Jinja2 for문 예"
   ]
  },
  {
   "cell_type": "code",
   "execution_count": 2,
   "id": "eb40fab4",
   "metadata": {},
   "outputs": [
    {
     "name": "stdout",
     "output_type": "stream",
     "text": [
      " * Serving Flask app \"__main__\" (lazy loading)\n",
      " * Environment: production\n",
      "\u001b[31m   WARNING: This is a development server. Do not use it in a production deployment.\u001b[0m\n",
      "\u001b[2m   Use a production WSGI server instead.\u001b[0m\n",
      " * Debug mode: off\n"
     ]
    },
    {
     "name": "stderr",
     "output_type": "stream",
     "text": [
      " * Running on http://127.0.0.1:8080/ (Press CTRL+C to quit)\n",
      "127.0.0.1 - - [23/Sep/2021 21:44:29] \"\u001b[33mGET / HTTP/1.1\u001b[0m\" 404 -\n",
      "127.0.0.1 - - [23/Sep/2021 21:44:29] \"\u001b[33mGET /favicon.ico HTTP/1.1\u001b[0m\" 404 -\n",
      "127.0.0.1 - - [23/Sep/2021 21:44:46] \"\u001b[33mGET / HTTP/1.1\u001b[0m\" 404 -\n",
      "127.0.0.1 - - [23/Sep/2021 21:44:55] \"\u001b[33mGET / HTTP/1.1\u001b[0m\" 404 -\n",
      "127.0.0.1 - - [23/Sep/2021 21:44:55] \"\u001b[33mGET /favicon.ico HTTP/1.1\u001b[0m\" 404 -\n",
      "127.0.0.1 - - [23/Sep/2021 21:45:03] \"\u001b[33mGET / HTTP/1.1\u001b[0m\" 404 -\n",
      "127.0.0.1 - - [23/Sep/2021 21:45:40] \"\u001b[37mGET /for HTTP/1.1\u001b[0m\" 200 -\n"
     ]
    }
   ],
   "source": [
    "from flask import Flask, render_template\n",
    "\n",
    "app = Flask(__name__)\n",
    "\n",
    "@app.route(\"/for\")\n",
    "def loop_test():\n",
    "    dept_list=[\"컴퓨터공학과\",\"전자공학과\",\"기계공학과\",\"화공과\"]\n",
    "    return render_template(\"loop.html\",values=dept_list)\n",
    "\n",
    "if __name__ == \"__main__\":\n",
    "    app.run(port=\"8080\")"
   ]
  },
  {
   "cell_type": "markdown",
   "id": "bf882ba3",
   "metadata": {},
   "source": [
    "# Jinja2 if문 예제"
   ]
  },
  {
   "cell_type": "code",
   "execution_count": null,
   "id": "edbe50b7",
   "metadata": {},
   "outputs": [
    {
     "name": "stdout",
     "output_type": "stream",
     "text": [
      " * Serving Flask app \"__main__\" (lazy loading)\n",
      " * Environment: production\n",
      "\u001b[31m   WARNING: This is a development server. Do not use it in a production deployment.\u001b[0m\n",
      "\u001b[2m   Use a production WSGI server instead.\u001b[0m\n",
      " * Debug mode: off\n"
     ]
    },
    {
     "name": "stderr",
     "output_type": "stream",
     "text": [
      " * Running on http://127.0.0.1:8080/ (Press CTRL+C to quit)\n",
      "127.0.0.1 - - [23/Sep/2021 23:52:20] \"\u001b[33mGET /if HTTP/1.1\u001b[0m\" 404 -\n",
      "127.0.0.1 - - [23/Sep/2021 23:52:21] \"\u001b[37mGET /if HTTP/1.1\u001b[0m\" 200 -\n"
     ]
    }
   ],
   "source": [
    "from flask import Flask, render_template\n",
    "\n",
    "app = Flask(__name__)\n",
    "\n",
    "@app.route(\"/if\")\n",
    "def if_test():\n",
    "    return render_template(\"condition.html\",size=\"Else\")\n",
    "\n",
    "if __name__==\"__main__\":\n",
    "    app.run(port=\"8080\")"
   ]
  },
  {
   "cell_type": "code",
   "execution_count": null,
   "id": "4282c1fd",
   "metadata": {},
   "outputs": [],
   "source": []
  }
 ],
 "metadata": {
  "kernelspec": {
   "display_name": "Python 3",
   "language": "python",
   "name": "python3"
  },
  "language_info": {
   "codemirror_mode": {
    "name": "ipython",
    "version": 3
   },
   "file_extension": ".py",
   "mimetype": "text/x-python",
   "name": "python",
   "nbconvert_exporter": "python",
   "pygments_lexer": "ipython3",
   "version": "3.8.8"
  }
 },
 "nbformat": 4,
 "nbformat_minor": 5
}
