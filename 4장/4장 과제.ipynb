{
 "cells": [
  {
   "cell_type": "markdown",
   "id": "d9793971",
   "metadata": {},
   "source": [
    "# 원두가격 동적 웹사이트 예"
   ]
  },
  {
   "cell_type": "code",
   "execution_count": 1,
   "id": "38a6fa00",
   "metadata": {},
   "outputs": [
    {
     "name": "stdout",
     "output_type": "stream",
     "text": [
      " * Serving Flask app \"__main__\" (lazy loading)\n",
      " * Environment: production\n",
      "\u001b[31m   WARNING: This is a development server. Do not use it in a production deployment.\u001b[0m\n",
      "\u001b[2m   Use a production WSGI server instead.\u001b[0m\n",
      " * Debug mode: off\n"
     ]
    },
    {
     "name": "stderr",
     "output_type": "stream",
     "text": [
      " * Running on http://127.0.0.1:5000/ (Press CTRL+C to quit)\n"
     ]
    }
   ],
   "source": [
    "from flask import Flask, render_template\n",
    "\n",
    "#플라스크 객체 생성\n",
    "app = Flask(__name__)\n",
    "\n",
    "# 라우팅 경로 요청시 실행 함수\n",
    "@app.route(\"/prices\") # 기본경로(localhost:5000)에서 /prices 추가 경로\n",
    "def prices():\n",
    "    import random\n",
    "    import time\n",
    "    \n",
    "    p = random.uniform(4,7)\n",
    "    price = round(p, 2)\n",
    "    daytime = time.asctime()\n",
    "    \n",
    "    #prices.html에 pr과 dt변수 제공하여 렌더링\n",
    "    return render_template(\"prices.html\", pr = price, dt = daytime)\n",
    "\n",
    "#플라스크 서버 구동\n",
    "if __name__ == \"__main__\":\n",
    "    app.run()"
   ]
  },
  {
   "cell_type": "markdown",
   "id": "60826157",
   "metadata": {},
   "source": [
    "# Jinja2 for문 예"
   ]
  },
  {
   "cell_type": "code",
   "execution_count": null,
   "id": "eb40fab4",
   "metadata": {},
   "outputs": [],
   "source": [
    "from flask import Flask, render_template\n",
    "\n",
    "app = Flask(__name__)\n",
    "\n",
    "@app.route(\"/for\")\n",
    "def loop_test():\n",
    "    dept_list=[\"컴퓨터공학과\",\"전자공학과\",\"기계공학과\",\"화공과\"]\n",
    "    return render_template(\"loop.html\",values=dept_list)\n",
    "\n",
    "if __name__ == \"__main__\":\n",
    "    app.run(port=\"8080\")"
   ]
  },
  {
   "cell_type": "markdown",
   "id": "bf882ba3",
   "metadata": {},
   "source": [
    "# Jinja2 if문 예제"
   ]
  },
  {
   "cell_type": "code",
   "execution_count": null,
   "id": "edbe50b7",
   "metadata": {},
   "outputs": [],
   "source": [
    "from flask import Flask, render_template\n",
    "\n",
    "app = Flask(__name__)\n",
    "\n",
    "@app.route(\"/if\")\n",
    "def if_test():\n",
    "    return render_template(\"condition.html\",size=\"Else\")\n",
    "\n",
    "if __name__==\"__main__\":\n",
    "    app.run(port=\"8080\")"
   ]
  },
  {
   "cell_type": "markdown",
   "id": "47c7fb09",
   "metadata": {},
   "source": [
    "# 임의 프로그램\n",
    "- 생년월일을 제공받으면 해당 정보에 대한 운세데이터 출력\n",
    "- 크롤링 응용"
   ]
  },
  {
   "cell_type": "code",
   "execution_count": 2,
   "id": "abb88465",
   "metadata": {},
   "outputs": [],
   "source": [
    "from flask import Flask, render_template, request\n",
    "import urllib.request\n",
    "from bs4 import BeautifulSoup"
   ]
  },
  {
   "cell_type": "code",
   "execution_count": null,
   "id": "b129d46a",
   "metadata": {},
   "outputs": [
    {
     "name": "stdout",
     "output_type": "stream",
     "text": [
      " * Serving Flask app \"__main__\" (lazy loading)\n",
      " * Environment: production\n",
      "\u001b[31m   WARNING: This is a development server. Do not use it in a production deployment.\u001b[0m\n",
      "\u001b[2m   Use a production WSGI server instead.\u001b[0m\n",
      " * Debug mode: off\n"
     ]
    },
    {
     "name": "stderr",
     "output_type": "stream",
     "text": [
      " * Running on http://127.0.0.1:5000/ (Press CTRL+C to quit)\n",
      "127.0.0.1 - - [29/Sep/2021 23:29:33] \"\u001b[37mGET /main HTTP/1.1\u001b[0m\" 200 -\n",
      "127.0.0.1 - - [29/Sep/2021 23:36:08] \"\u001b[37mPOST /show HTTP/1.1\u001b[0m\" 200 -\n",
      "127.0.0.1 - - [29/Sep/2021 23:44:38] \"\u001b[33mGET / HTTP/1.1\u001b[0m\" 404 -\n",
      "127.0.0.1 - - [29/Sep/2021 23:44:43] \"\u001b[37mGET /main HTTP/1.1\u001b[0m\" 200 -\n",
      "127.0.0.1 - - [29/Sep/2021 23:45:04] \"\u001b[37mPOST /show HTTP/1.1\u001b[0m\" 200 -\n",
      "127.0.0.1 - - [29/Sep/2021 23:46:17] \"\u001b[37mPOST /show HTTP/1.1\u001b[0m\" 200 -\n",
      "127.0.0.1 - - [29/Sep/2021 23:48:01] \"\u001b[37mPOST /show HTTP/1.1\u001b[0m\" 200 -\n",
      "127.0.0.1 - - [29/Sep/2021 23:52:36] \"\u001b[33mGET / HTTP/1.1\u001b[0m\" 404 -\n",
      "127.0.0.1 - - [29/Sep/2021 23:52:39] \"\u001b[37mGET /main HTTP/1.1\u001b[0m\" 200 -\n",
      "127.0.0.1 - - [29/Sep/2021 23:52:51] \"\u001b[37mPOST /show HTTP/1.1\u001b[0m\" 200 -\n",
      "127.0.0.1 - - [29/Sep/2021 23:53:55] \"\u001b[37mPOST /show HTTP/1.1\u001b[0m\" 200 -\n",
      "127.0.0.1 - - [29/Sep/2021 23:54:04] \"\u001b[31m\u001b[1mGET /show HTTP/1.1\u001b[0m\" 405 -\n"
     ]
    }
   ],
   "source": [
    "app = Flask(__name__)\n",
    "#시작페이지 : 생년월일 입력\n",
    "@app.route(\"/main\")\n",
    "def join_main():\n",
    "    return render_template(\"main.html\")\n",
    "\n",
    "#결과출력페이지 : 입력된 정보로 검색한 내용 나열\n",
    "@app.route(\"/show\", methods=[\"POST\"])\n",
    "def show_myth() -> 'html':\n",
    "    #오늘의 운세 페이지\n",
    "    today_page = urllib.request.urlopen(\"https://unse.daily.co.kr/?p=zodiac\").read()\n",
    "    today_soup = BeautifulSoup(today_page, \"html.parser\")\n",
    "    \n",
    "    #년월일 가져오기, 스플릿\n",
    "    ymd = request.form['ymd']\n",
    "    ymd_split = ymd.split('-')\n",
    "    \n",
    "    #띠 계산\n",
    "    animals = ['쥐','소','호랑이','토끼','용','뱀','말','양','원숭이','닭','개','돼지']\n",
    "    zodiac = animals[(int(ymd_split[0]) - 4) % 12]\n",
    "    z_code = \"code_\" + str(animals.index(zodiac) + 1)\n",
    "    z_year = ymd_split[0][2:]\n",
    "    \n",
    "    #웹페이지 운세목록 추출\n",
    "    fortune = today_soup.find(\"ul\", {\"id\":z_code})\n",
    "\n",
    "    #띠 공통 운세\n",
    "    total_text = fortune.find(\"p\").text\n",
    "\n",
    "    #띠 연도에 맞는 운세\n",
    "    year_text = \"\"\n",
    "    for i in fortune.find_all(\"li\"):\n",
    "        if i.find(\"span\").text == str(z_year) + \"년생\":\n",
    "            year_text = i.find(\"p\").text\n",
    "    \n",
    "    return render_template(\"show.html\", ymd_split = ymd_split, zodiac = zodiac, total_text = total_text,\n",
    "                          year_text = year_text)\n",
    "\n",
    "if __name__ == \"__main__\":\n",
    "    app.run()"
   ]
  },
  {
   "cell_type": "code",
   "execution_count": null,
   "id": "e0c4b809",
   "metadata": {},
   "outputs": [],
   "source": []
  },
  {
   "cell_type": "code",
   "execution_count": null,
   "id": "3a302b41",
   "metadata": {},
   "outputs": [],
   "source": []
  }
 ],
 "metadata": {
  "kernelspec": {
   "display_name": "Python 3",
   "language": "python",
   "name": "python3"
  },
  "language_info": {
   "codemirror_mode": {
    "name": "ipython",
    "version": 3
   },
   "file_extension": ".py",
   "mimetype": "text/x-python",
   "name": "python",
   "nbconvert_exporter": "python",
   "pygments_lexer": "ipython3",
   "version": "3.8.8"
  }
 },
 "nbformat": 4,
 "nbformat_minor": 5
}
