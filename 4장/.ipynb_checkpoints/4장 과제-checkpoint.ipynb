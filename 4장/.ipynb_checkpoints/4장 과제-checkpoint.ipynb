{
 "cells": [
  {
   "cell_type": "markdown",
   "id": "09f5aa98",
   "metadata": {},
   "source": [
    "# 원두가격 동적 웹사이트 예"
   ]
  },
  {
   "cell_type": "code",
   "execution_count": null,
   "id": "00052a1f",
   "metadata": {},
   "outputs": [],
   "source": [
    "from flask import Flask, render_template\n",
    "\n",
    "#플라스크 객체 생성\n",
    "app = Flask(__name__)\n",
    "\n",
    "# 라우팅 경로 요청시 실행 함수\n",
    "@app.route(\"/prices\") # 기본경로(localhost:5000)에서 /prices 추가 경로\n",
    "def prices():\n",
    "    import random\n",
    "    import time\n",
    "    \n",
    "    p = random.uniform(4,7)\n",
    "    price = round(p, 2)\n",
    "    daytime = time.asctime()\n",
    "    \n",
    "    #prices.html에 pr과 dt변수 제공하여 렌더링\n",
    "    return render_template(\"prices.html\", pr = price, dt = daytime)\n",
    "\n",
    "#플라스크 서버 구동\n",
    "if __name__ == \"__main__\":\n",
    "    app.run()"
   ]
  }
 ],
 "metadata": {
  "kernelspec": {
   "display_name": "Python 3",
   "language": "python",
   "name": "python3"
  },
  "language_info": {
   "codemirror_mode": {
    "name": "ipython",
    "version": 3
   },
   "file_extension": ".py",
   "mimetype": "text/x-python",
   "name": "python",
   "nbconvert_exporter": "python",
   "pygments_lexer": "ipython3",
   "version": "3.8.8"
  }
 },
 "nbformat": 4,
 "nbformat_minor": 5
}
