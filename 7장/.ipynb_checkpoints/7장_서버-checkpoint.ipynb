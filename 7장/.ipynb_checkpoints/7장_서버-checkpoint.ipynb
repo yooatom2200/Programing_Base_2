{
 "cells": [
  {
   "cell_type": "markdown",
   "id": "1019f805",
   "metadata": {},
   "source": [
    "# 채팅 프로그램 예시 (서버)"
   ]
  },
  {
   "cell_type": "code",
   "execution_count": null,
   "id": "d95f14ee",
   "metadata": {},
   "outputs": [],
   "source": [
    "from socket import *\n",
    "from threading import *\n",
    "\n",
    "def serverRecv():\n",
    "    while True:\n",
    "        clientMsg = connectionSocket.recv(1024)\n",
    "        print(\"[클라이언트]\" + clientMsg.decode(\"utf8\") + \"\\n\")\n",
    "        \n",
    "print(\"서버 네트워크 연결 초기화\")\n",
    "#호스트 주소 지정\n",
    "serverPort = 9001\n",
    "#서버 소켓 생성\n",
    "serverSocket = socket(AF_INET,SOCK_STREAM)\n",
    "serverSocket.bind((\"\",serverPort))\n",
    "serverSocket.listen(1)\n",
    "\n",
    "connectionSocket, addr = serverSocket.accept()\n",
    "print(\"클라이언트 연결됨...\", addr, \"\\n\")\n",
    "\n",
    "Thread(target=serverRecv).start()\n",
    "\n",
    "while True:\n",
    "    msg = input()\n",
    "    connectionSocket.send(msg.encode(\"utf8\"))\n",
    "    \n",
    "connectionSocket.close()"
   ]
  },
  {
   "cell_type": "markdown",
   "id": "fc134035",
   "metadata": {},
   "source": [
    "# 임의 프로그램 ( 채팅 종료 기능 추가 )"
   ]
  },
  {
   "cell_type": "code",
   "execution_count": null,
   "id": "fdc8d599",
   "metadata": {},
   "outputs": [
    {
     "name": "stdout",
     "output_type": "stream",
     "text": [
      "서버 네트워크 연결 초기화\n",
      "클라이언트 연결됨... ('127.0.0.1', 50138) \n",
      "\n",
      "안녕\n"
     ]
    },
    {
     "name": "stderr",
     "output_type": "stream",
     "text": [
      "Exception in thread Thread-5:\n",
      "Traceback (most recent call last):\n",
      "  File \"/Users/songheeryeong/opt/anaconda3/envs/prog2/lib/python3.8/threading.py\", line 932, in _bootstrap_inner\n",
      "    self.run()\n",
      "  File \"/Users/songheeryeong/opt/anaconda3/envs/prog2/lib/python3.8/threading.py\", line 870, in run\n",
      "    self._target(*self._args, **self._kwargs)\n",
      "  File \"<ipython-input-4-2fba768b8956>\", line 6, in serverRecv\n",
      "OSError: [Errno 9] Bad file descriptor\n"
     ]
    },
    {
     "name": "stdout",
     "output_type": "stream",
     "text": [
      "[클라이언트]싫어\n",
      "\n"
     ]
    }
   ],
   "source": [
    "from socket import *\n",
    "from threading import *\n",
    "\n",
    "def serverRecv():\n",
    "    while True:\n",
    "        clientMsg = connectionSocket.recv(1024)\n",
    "        if clientMsg.decode(\"utf8\") == \"exit()\":\n",
    "            print(\"클라이언트가 연결을 종료하였습니다.\")\n",
    "            break\n",
    "        print(\"[클라이언트]\" + clientMsg.decode(\"utf8\") + \"\\n\")\n",
    "        connectionSocket.close()\n",
    "        \n",
    "print(\"서버 네트워크 연결 초기화\")\n",
    "serverPort = 9002\n",
    "serverSocket = socket(AF_INET,SOCK_STREAM)\n",
    "serverSocket.bind((\"\",serverPort))\n",
    "serverSocket.listen(1)\n",
    "connectionSocket, addr = serverSocket.accept()\n",
    "\n",
    "print(\"클라이언트 연결됨...\", addr, \"\\n\")\n",
    "Thread(target=serverRecv).start()\n",
    "\n",
    "while True:\n",
    "    msg = input()\n",
    "    connectionSocket.send(msg.encode(\"utf8\"))\n",
    "    if msg == \"exit()\":\n",
    "        print(\"서버를 종료합니다.\")\n",
    "        connectionSocket.close()\n",
    "        break"
   ]
  },
  {
   "cell_type": "code",
   "execution_count": null,
   "id": "60953a9f",
   "metadata": {},
   "outputs": [],
   "source": []
  }
 ],
 "metadata": {
  "kernelspec": {
   "display_name": "Python 3",
   "language": "python",
   "name": "python3"
  },
  "language_info": {
   "codemirror_mode": {
    "name": "ipython",
    "version": 3
   },
   "file_extension": ".py",
   "mimetype": "text/x-python",
   "name": "python",
   "nbconvert_exporter": "python",
   "pygments_lexer": "ipython3",
   "version": "3.8.8"
  }
 },
 "nbformat": 4,
 "nbformat_minor": 5
}
