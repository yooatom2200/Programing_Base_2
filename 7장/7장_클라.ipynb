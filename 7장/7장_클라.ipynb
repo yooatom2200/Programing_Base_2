{
 "cells": [
  {
   "cell_type": "markdown",
   "id": "e2156af3",
   "metadata": {},
   "source": [
    "# 채팅 프로그램 예시 (클라이언트)"
   ]
  },
  {
   "cell_type": "code",
   "execution_count": null,
   "id": "4efd7ba1",
   "metadata": {},
   "outputs": [],
   "source": [
    "from socket import *\n",
    "from threading import *\n",
    "\n",
    "def clientRecv():\n",
    "    while True:\n",
    "        serverMsg = clientSocket.recv(1024)\n",
    "        print(\"[서버]\" + serverMsg.decode(\"utf8\") + \"\\n\")\n",
    "    \n",
    "    clientSocket.close()\n",
    "    \n",
    "print(\"클라이언트 네트워크 연결 초기화 .....\")\n",
    "serverName='127.0.0.1'\n",
    "serverPort = 9001\n",
    "\n",
    "clientSocket = socket(AF_INET, SOCK_STREAM)\n",
    "clientSocket.connect((serverName, serverPort))\n",
    "print(\"서버 연결됨...\\n\")\n",
    "\n",
    "Thread(target=clientRecv).start()\n",
    "\n",
    "while True:\n",
    "    msg = input()\n",
    "    clientSocket.send(msg.encode(\"utf8\"))\n",
    "    \n",
    "clientSocket.close()"
   ]
  },
  {
   "cell_type": "markdown",
   "id": "773d55c6",
   "metadata": {},
   "source": [
    "# 임의 프로그램 ( 채팅 종료 기능 추가 )"
   ]
  },
  {
   "cell_type": "code",
   "execution_count": 2,
   "id": "ef05578e",
   "metadata": {},
   "outputs": [
    {
     "name": "stdout",
     "output_type": "stream",
     "text": [
      "클라이언트 네트워크 연결 초기화 .....\n",
      "서버 연결됨...\n",
      "\n",
      "[서버]안녕\n",
      "\n",
      "싫어\n",
      "exit()\n",
      "연결을 종료합니다.\n"
     ]
    },
    {
     "name": "stderr",
     "output_type": "stream",
     "text": [
      "Exception in thread Thread-5:\n",
      "Traceback (most recent call last):\n",
      "  File \"/Users/songheeryeong/opt/anaconda3/envs/prog2/lib/python3.8/threading.py\", line 932, in _bootstrap_inner\n",
      "    self.run()\n",
      "  File \"/Users/songheeryeong/opt/anaconda3/envs/prog2/lib/python3.8/threading.py\", line 870, in run\n",
      "    self._target(*self._args, **self._kwargs)\n",
      "  File \"<ipython-input-2-ffdb004e7f97>\", line 6, in clientRecv\n",
      "OSError: [Errno 9] Bad file descriptor\n"
     ]
    }
   ],
   "source": [
    "from socket import *\n",
    "from threading import *\n",
    "\n",
    "def clientRecv():\n",
    "    while True:\n",
    "        serverMsg = clientSocket.recv(1024)\n",
    "        if serverMsg.decode(\"utf8\") == \"exit()\":\n",
    "            print(\"서버가 연결을 종료하였습니다.\")\n",
    "            break\n",
    "        print(\"[서버]\" + serverMsg.decode(\"utf8\") + \"\\n\")\n",
    "    connectionSocket.close()\n",
    "    \n",
    "print(\"클라이언트 네트워크 연결 초기화 .....\")\n",
    "serverName='127.0.0.1'\n",
    "serverPort = 9000\n",
    "clientSocket = socket(AF_INET, SOCK_STREAM)\n",
    "clientSocket.connect((serverName, serverPort))\n",
    "\n",
    "print(\"서버 연결됨...\\n\")\n",
    "ex_thread = Thread(target=clientRecv)\n",
    "ex_thread.start()\n",
    "\n",
    "while True:\n",
    "    msg = input()\n",
    "    clientSocket.send(msg.encode(\"utf8\"))\n",
    "    if msg == \"exit()\":\n",
    "        print(\"연결을 종료합니다.\")\n",
    "        clientSocket.close()\n",
    "        break"
   ]
  },
  {
   "cell_type": "code",
   "execution_count": null,
   "id": "d056586b",
   "metadata": {},
   "outputs": [],
   "source": []
  }
 ],
 "metadata": {
  "kernelspec": {
   "display_name": "Python 3",
   "language": "python",
   "name": "python3"
  },
  "language_info": {
   "codemirror_mode": {
    "name": "ipython",
    "version": 3
   },
   "file_extension": ".py",
   "mimetype": "text/x-python",
   "name": "python",
   "nbconvert_exporter": "python",
   "pygments_lexer": "ipython3",
   "version": "3.8.8"
  }
 },
 "nbformat": 4,
 "nbformat_minor": 5
}
