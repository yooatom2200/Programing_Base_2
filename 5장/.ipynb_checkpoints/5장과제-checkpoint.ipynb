{
 "cells": [
  {
   "cell_type": "markdown",
   "id": "e8e3de06",
   "metadata": {},
   "source": [
    "# SQL - 데이터 전체 조회"
   ]
  },
  {
   "cell_type": "code",
   "execution_count": 7,
   "id": "8466dd0c",
   "metadata": {},
   "outputs": [
    {
     "name": "stdout",
     "output_type": "stream",
     "text": [
      "('wynam', 'n1234', '남운영', '2019-08-20 13:40:50')\n",
      "('jklee', 'l3456', '이전경', '2019-08-20 14:50:10')\n"
     ]
    }
   ],
   "source": [
    "import sqlite3\n",
    "\n",
    "conn = sqlite3.connect('member.db')\n",
    "cursor = conn.cursor()\n",
    "\n",
    "#데이터조회 SQL문 실행\n",
    "cursor.execute(\"select * from meminfo\")\n",
    "rows = cursor.fetchall()#모든 레코드 가져오기\n",
    "\n",
    "for row in rows:\n",
    "    print(row)\n",
    "    \n",
    "conn.close()"
   ]
  },
  {
   "cell_type": "markdown",
   "id": "9d906b9b",
   "metadata": {},
   "source": [
    "# SQL - 열 이름으로 조회"
   ]
  },
  {
   "cell_type": "code",
   "execution_count": 10,
   "id": "ff616eb9",
   "metadata": {},
   "outputs": [
    {
     "name": "stdout",
     "output_type": "stream",
     "text": [
      "ID : wynam, PASSWD : n1234, name : 남운영, time : 2019-08-20 13:40:50\n",
      "ID : jklee, PASSWD : l3456, name : 이전경, time : 2019-08-20 14:50:10\n",
      "<sqlite3.Row object at 0x7fb4505a2e70>\n",
      "<sqlite3.Row object at 0x7fb430062050>\n"
     ]
    }
   ],
   "source": [
    "import sqlite3\n",
    "conn = sqlite3.connect('member.db')\n",
    "\n",
    "conn.row_factory = sqlite3.Row\n",
    "cursor = conn.cursor()\n",
    "cursor.execute('select * from meminfo')#meminfo 테이블 내 모든 데이터\n",
    "rows = cursor.fetchall()#rows에 레코드 저장\n",
    "\n",
    "for row in rows:\n",
    "    print(\"ID : %s, PASSWD : %s, name : %s, time : %s\" %\n",
    "          (row['id'], row['passwd'], row['name'], row['time']))\n",
    "    \n",
    "for row in rows:\n",
    "    print(row)\n",
    "\n",
    "conn.close()"
   ]
  },
  {
   "cell_type": "markdown",
   "id": "2a255500",
   "metadata": {},
   "source": [
    "# 기상청 데이터 응용"
   ]
  },
  {
   "cell_type": "code",
   "execution_count": 28,
   "id": "20030879",
   "metadata": {},
   "outputs": [],
   "source": [
    "import urllib.request\n",
    "from bs4 import BeautifulSoup\n",
    "#기상청 날씨페이지 로드\n",
    "page = urllib.request.urlopen(\"http://www.weather.go.kr/weather/observation/currentweather.jsp\").read()\n",
    "soup = BeautifulSoup(page, \"html.parser\")\n",
    "\n",
    "#DB 연결\n",
    "import sqlite3\n",
    "conn = sqlite3.connect('Weather.db')\n",
    "conn.row_factory = sqlite3.Row\n",
    "cursor = conn.cursor()"
   ]
  },
  {
   "cell_type": "code",
   "execution_count": 29,
   "id": "cfd1ff77",
   "metadata": {},
   "outputs": [
    {
     "name": "stdout",
     "output_type": "stream",
     "text": [
      "2021-10-05 22:00\n"
     ]
    }
   ],
   "source": [
    "#현재시간 태그 검색\n",
    "current_time = soup.find('input',{'class':'time'})\n",
    "#날짜 시간 분리 후 SQLite3 형식의 날짜 시간 문자열로 변환\n",
    "dt = current_time['value'].split('.')\n",
    "year, month, date, time = dt[0], dt[1], dt[2], dt[3]\n",
    "date_time = year + \"-\" + month + \"-\" + date + \" \" + time\n",
    "print(date_time)"
   ]
  },
  {
   "cell_type": "code",
   "execution_count": 30,
   "id": "b1b5ca16",
   "metadata": {},
   "outputs": [
    {
     "name": "stdout",
     "output_type": "stream",
     "text": [
      "ok\n"
     ]
    }
   ],
   "source": [
    "#현재 날씨테이블 검색\n",
    "table = soup.find('table', {'class':'table_develop3'})\n",
    "data = []\n",
    "\n",
    "for tr in table.find_all('tr'):\n",
    "    tds = tr.find_all('td')\n",
    "    for td in tds:\n",
    "        if td.find('a'):\n",
    "            city = td.find('a').text\n",
    "            temperature = tds[5].text\n",
    "            humidity = tds[9].text\n",
    "            data.append([city, temperature, humidity])\n",
    "            #레코드 삽입 SQL문 실행\n",
    "            cursor.execute('''\n",
    "            insert into CityWeather (city, temperature, humidity, dtime) values (?,?,?,?)''',\n",
    "                           (city, temperature, humidity, date_time))\n",
    "            \n",
    "conn.commit()#데이터베이스 내보내기\n",
    "\n",
    "cursor.execute(\"select * from CityWeather where temperature > 20\") #데이터 조회 SQL문 실행, 31로 검색 안되서 20로 변경\n",
    "rows = cursor.fetchall()\n",
    "\n",
    "for row in rows:\n",
    "    print(\"도시 : %s, 온도 : %s, 시간 : %s\"%\n",
    "         (row['city'],row['temperature'], row['humidity'], row['dtime']))\n",
    "    \n",
    "conn.close()"
   ]
  },
  {
   "cell_type": "code",
   "execution_count": null,
   "id": "3c721680",
   "metadata": {},
   "outputs": [],
   "source": []
  }
 ],
 "metadata": {
  "kernelspec": {
   "display_name": "Python 3",
   "language": "python",
   "name": "python3"
  },
  "language_info": {
   "codemirror_mode": {
    "name": "ipython",
    "version": 3
   },
   "file_extension": ".py",
   "mimetype": "text/x-python",
   "name": "python",
   "nbconvert_exporter": "python",
   "pygments_lexer": "ipython3",
   "version": "3.8.8"
  }
 },
 "nbformat": 4,
 "nbformat_minor": 5
}
