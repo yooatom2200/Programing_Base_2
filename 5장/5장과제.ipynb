{
 "cells": [
  {
   "cell_type": "markdown",
   "id": "a6fa81f9",
   "metadata": {},
   "source": [
    "# SQL - 데이터 전체 조회"
   ]
  },
  {
   "cell_type": "code",
   "execution_count": 7,
   "id": "dbd6aa06",
   "metadata": {},
   "outputs": [
    {
     "name": "stdout",
     "output_type": "stream",
     "text": [
      "('wynam', 'n1234', '남운영', '2019-08-20 13:40:50')\n",
      "('jklee', 'l3456', '이전경', '2019-08-20 14:50:10')\n"
     ]
    }
   ],
   "source": [
    "import sqlite3\n",
    "\n",
    "conn = sqlite3.connect('member.db')\n",
    "cursor = conn.cursor()\n",
    "\n",
    "#데이터조회 SQL문 실행\n",
    "cursor.execute(\"select * from meminfo\")\n",
    "rows = cursor.fetchall()#모든 레코드 가져오기\n",
    "\n",
    "for row in rows:\n",
    "    print(row)\n",
    "    \n",
    "conn.close()"
   ]
  },
  {
   "cell_type": "markdown",
   "id": "9eee19e6",
   "metadata": {},
   "source": [
    "# SQL - 열 이름으로 조회"
   ]
  },
  {
   "cell_type": "code",
   "execution_count": 10,
   "id": "48f76924",
   "metadata": {},
   "outputs": [
    {
     "name": "stdout",
     "output_type": "stream",
     "text": [
      "ID : wynam, PASSWD : n1234, name : 남운영, time : 2019-08-20 13:40:50\n",
      "ID : jklee, PASSWD : l3456, name : 이전경, time : 2019-08-20 14:50:10\n",
      "<sqlite3.Row object at 0x7fb4505a2e70>\n",
      "<sqlite3.Row object at 0x7fb430062050>\n"
     ]
    }
   ],
   "source": [
    "import sqlite3\n",
    "conn = sqlite3.connect('member.db')\n",
    "\n",
    "conn.row_factory = sqlite3.Row\n",
    "cursor = conn.cursor()\n",
    "cursor.execute('select * from meminfo')#meminfo 테이블 내 모든 데이터\n",
    "rows = cursor.fetchall()#rows에 레코드 저장\n",
    "\n",
    "for row in rows:\n",
    "    print(\"ID : %s, PASSWD : %s, name : %s, time : %s\" %\n",
    "          (row['id'], row['passwd'], row['name'], row['time']))\n",
    "    \n",
    "for row in rows:\n",
    "    print(row)\n",
    "\n",
    "conn.close()"
   ]
  },
  {
   "cell_type": "markdown",
   "id": "f1310a32",
   "metadata": {},
   "source": [
    "# 기상청 데이터 응용"
   ]
  },
  {
   "cell_type": "code",
   "execution_count": 41,
   "id": "5da607a1",
   "metadata": {},
   "outputs": [],
   "source": [
    "import urllib.request\n",
    "from bs4 import BeautifulSoup\n",
    "#기상청 날씨페이지 로드\n",
    "page = urllib.request.urlopen('http://www.weather.go.kr/weather/\\\n",
    "observation/currentweather.jsp').read()\n",
    "soup = BeautifulSoup(page, \"html.parser\")\n",
    "\n",
    "#DB 연결\n",
    "import sqlite3\n",
    "conn = sqlite3.connect('Weather.db')\n",
    "conn.row_factory = sqlite3.Row\n",
    "cursor = conn.cursor()"
   ]
  },
  {
   "cell_type": "code",
   "execution_count": 42,
   "id": "5795a133",
   "metadata": {},
   "outputs": [
    {
     "name": "stdout",
     "output_type": "stream",
     "text": [
      "2021-10-05 22:00\n"
     ]
    }
   ],
   "source": [
    "#현재시간 태그 검색\n",
    "current_time = soup.find('input',{'class':'time'})\n",
    "#날짜 시간 분리 후 SQLite3 형식의 날짜 시간 문자열로 변환\n",
    "dt = current_time['value'].split('.')\n",
    "year, month, date, time = dt[0], dt[1], dt[2], dt[3]\n",
    "date_time = year + \"-\" + month + \"-\" + date + \" \" + time\n",
    "print(date_time)"
   ]
  },
  {
   "cell_type": "code",
   "execution_count": 43,
   "id": "7da0291b",
   "metadata": {},
   "outputs": [
    {
     "name": "stdout",
     "output_type": "stream",
     "text": [
      "도시 : 강진군, 온도 : 21.5, 습도 : 93, 시간 : 2021-10-05 22:00\n",
      "도시 : 거제, 온도 : 21.8, 습도 : 92, 시간 : 2021-10-05 22:00\n",
      "도시 : 경주시, 온도 : 20.8, 습도 : 91, 시간 : 2021-10-05 22:00\n",
      "도시 : 고산, 온도 : 24.2, 습도 : 93, 시간 : 2021-10-05 22:00\n",
      "도시 : 고흥, 온도 : 20.3, 습도 : 98, 시간 : 2021-10-05 22:00\n",
      "도시 : 광양시, 온도 : 23.0, 습도 : 88, 시간 : 2021-10-05 22:00\n",
      "도시 : 광주, 온도 : 22.9, 습도 : 93, 시간 : 2021-10-05 22:00\n",
      "도시 : 군산, 온도 : 20.8, 습도 : 99, 시간 : 2021-10-05 22:00\n",
      "도시 : 김해시, 온도 : 23.0, 습도 : 88, 시간 : 2021-10-05 22:00\n",
      "도시 : 남해, 온도 : 21.3, 습도 : 94, 시간 : 2021-10-05 22:00\n",
      "도시 : 대구, 온도 : 21.7, 습도 : 82, 시간 : 2021-10-05 22:00\n",
      "도시 : 대전, 온도 : 21.3, 습도 : 90, 시간 : 2021-10-05 22:00\n",
      "도시 : 목포, 온도 : 22.9, 습도 : 82, 시간 : 2021-10-05 22:00\n",
      "도시 : 밀양, 온도 : 21.4, 습도 : 84, 시간 : 2021-10-05 22:00\n",
      "도시 : 보령, 온도 : 20.5, 습도 : 94, 시간 : 2021-10-05 22:00\n",
      "도시 : 보성군, 온도 : 21.5, 습도 : 95, 시간 : 2021-10-05 22:00\n",
      "도시 : 부산, 온도 : 23.2, 습도 : 88, 시간 : 2021-10-05 22:00\n",
      "도시 : 북창원, 온도 : 23.3, 습도 : 89, 시간 : 2021-10-05 22:00\n",
      "도시 : 서귀포, 온도 : 24.8, 습도 : 81, 시간 : 2021-10-05 22:00\n",
      "도시 : 서산, 온도 : 21.4, 습도 : 98, 시간 : 2021-10-05 22:00\n",
      "도시 : 서울, 온도 : 22.1, 습도 : 89, 시간 : 2021-10-05 22:00\n",
      "도시 : 성산, 온도 : 22.6, 습도 : 83, 시간 : 2021-10-05 22:00\n",
      "도시 : 세종, 온도 : 20.3, 습도 : 85, 시간 : 2021-10-05 22:00\n",
      "도시 : 수원, 온도 : 22.4, 습도 : 89, 시간 : 2021-10-05 22:00\n",
      "도시 : 양산시, 온도 : 23.3, 습도 : 83, 시간 : 2021-10-05 22:00\n",
      "도시 : 양평, 온도 : 23.1, 습도 : 81, 시간 : 2021-10-05 22:00\n",
      "도시 : 여수, 온도 : 24.1, 습도 : 91, 시간 : 2021-10-05 22:00\n",
      "도시 : 완도, 온도 : 22.9, 습도 : 88, 시간 : 2021-10-05 22:00\n",
      "도시 : 울산, 온도 : 21.1, 습도 : 94, 시간 : 2021-10-05 22:00\n",
      "도시 : 원주, 온도 : 23.0, 습도 : 72, 시간 : 2021-10-05 22:00\n",
      "도시 : 이천, 온도 : 23.4, 습도 : 80, 시간 : 2021-10-05 22:00\n",
      "도시 : 인천, 온도 : 22.0, 습도 : 81, 시간 : 2021-10-05 22:00\n",
      "도시 : 전주, 온도 : 21.4, 습도 : 84, 시간 : 2021-10-05 22:00\n",
      "도시 : 제주, 온도 : 24.9, 습도 : 81, 시간 : 2021-10-05 22:00\n",
      "도시 : 진주, 온도 : 20.7, 습도 : 97, 시간 : 2021-10-05 22:00\n",
      "도시 : 창원, 온도 : 22.1, 습도 : 88, 시간 : 2021-10-05 22:00\n",
      "도시 : 천안, 온도 : 20.1, 습도 : 94, 시간 : 2021-10-05 22:00\n",
      "도시 : 청주, 온도 : 22.5, 습도 : 72, 시간 : 2021-10-05 22:00\n",
      "도시 : 충주, 온도 : 20.3, 습도 : 83, 시간 : 2021-10-05 22:00\n",
      "도시 : 통영, 온도 : 22.7, 습도 : 96, 시간 : 2021-10-05 22:00\n",
      "도시 : 포항, 온도 : 21.9, 습도 : 84, 시간 : 2021-10-05 22:00\n",
      "도시 : 홍성, 온도 : 22.7, 습도 : 86, 시간 : 2021-10-05 22:00\n",
      "도시 : 흑산도, 온도 : 23.9, 습도 : 74, 시간 : 2021-10-05 22:00\n"
     ]
    }
   ],
   "source": [
    "#현재 날씨테이블 검색\n",
    "table = soup.find('table', {'class':'table_develop3'})\n",
    "data = []\n",
    "\n",
    "for tr in table.find_all('tr'):\n",
    "    tds = tr.find_all('td')\n",
    "    for td in tds:\n",
    "        if td.find('a'):\n",
    "            city = td.find('a').text\n",
    "            temperature = tds[5].text\n",
    "            humidity = tds[9].text\n",
    "            data.append([city, temperature, humidity])\n",
    "            #레코드 삽입 SQL문 실행\n",
    "            cursor.execute('''\n",
    "            insert into CityWeather (city, temperature, humidity, dtime) values (?,?,?,?)''',\n",
    "                           (city, temperature, humidity, date_time))\n",
    "            \n",
    "conn.commit()#데이터베이스 내보내기\n",
    "#데이터 조회 SQL문 실행, 31로 검색 안되서 20로 변경\n",
    "cursor.execute(\"select * from CityWeather where temperature > 20\")\n",
    "rows = cursor.fetchall()\n",
    "\n",
    "for row in rows:\n",
    "    print(\"도시 : %s, 온도 : %s, 습도 : %s, 시간 : %s\"%\n",
    "         (row['city'],row['temperature'], row['humidity'], row['dtime']))\n",
    "    \n",
    "conn.close()"
   ]
  },
  {
   "cell_type": "markdown",
   "id": "82055250",
   "metadata": {},
   "source": [
    "# 임의의 프로그램"
   ]
  },
  {
   "cell_type": "code",
   "execution_count": null,
   "id": "07f67465",
   "metadata": {},
   "outputs": [],
   "source": []
  }
 ],
 "metadata": {
  "kernelspec": {
   "display_name": "Python 3",
   "language": "python",
   "name": "python3"
  },
  "language_info": {
   "codemirror_mode": {
    "name": "ipython",
    "version": 3
   },
   "file_extension": ".py",
   "mimetype": "text/x-python",
   "name": "python",
   "nbconvert_exporter": "python",
   "pygments_lexer": "ipython3",
   "version": "3.8.8"
  }
 },
 "nbformat": 4,
 "nbformat_minor": 5
}
