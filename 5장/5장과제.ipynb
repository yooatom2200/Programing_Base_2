{
 "cells": [
  {
   "cell_type": "markdown",
   "id": "c6e89490",
   "metadata": {},
   "source": [
    "# SQL - 데이터 전체 조회"
   ]
  },
  {
   "cell_type": "code",
   "execution_count": 1,
   "id": "724210dd",
   "metadata": {},
   "outputs": [
    {
     "name": "stdout",
     "output_type": "stream",
     "text": [
      "('wynam', 'n1234', '남운영', '2019-08-20 13:40:50')\n",
      "('jklee', 'l3456', '이전경', '2019-08-20 14:50:10')\n"
     ]
    }
   ],
   "source": [
    "import sqlite3\n",
    "\n",
    "conn = sqlite3.connect('member.db')\n",
    "cursor = conn.cursor()\n",
    "\n",
    "#데이터조회 SQL문 실행\n",
    "cursor.execute(\"select * from meminfo\")\n",
    "rows = cursor.fetchall()#모든 레코드 가져오기, 테이블 : stone, flower\n",
    "\n",
    "for row in rows:\n",
    "    print(row)\n",
    "    \n",
    "conn.close()"
   ]
  },
  {
   "cell_type": "markdown",
   "id": "5f1ede99",
   "metadata": {},
   "source": [
    "# SQL - 열 이름으로 조회"
   ]
  },
  {
   "cell_type": "code",
   "execution_count": 2,
   "id": "9b58b3c4",
   "metadata": {},
   "outputs": [
    {
     "name": "stdout",
     "output_type": "stream",
     "text": [
      "ID : wynam, PASSWD : n1234, name : 남운영, time : 2019-08-20 13:40:50\n",
      "ID : jklee, PASSWD : l3456, name : 이전경, time : 2019-08-20 14:50:10\n",
      "('wynam', 'n1234', '남운영', '2019-08-20 13:40:50')\n",
      "('jklee', 'l3456', '이전경', '2019-08-20 14:50:10')\n"
     ]
    }
   ],
   "source": [
    "import sqlite3\n",
    "conn = sqlite3.connect('member.db')\n",
    "\n",
    "conn.row_factory = sqlite3.Row\n",
    "cursor = conn.cursor()\n",
    "cursor.execute('select * from meminfo')#meminfo 테이블 내 모든 데이터\n",
    "#rows = cursor.fetchall()#rows에 레코드 저장\n",
    "\n",
    "for row in cursor.fetchall():\n",
    "    print(\"ID : %s, PASSWD : %s, name : %s, time : %s\" %\n",
    "          (row['id'], row['passwd'], row['name'], row['time']))\n",
    "    \n",
    "for row in rows:\n",
    "    print(row)\n",
    "\n",
    "conn.close()"
   ]
  },
  {
   "cell_type": "markdown",
   "id": "776afbac",
   "metadata": {},
   "source": [
    "# 기상청 데이터 응용"
   ]
  },
  {
   "cell_type": "code",
   "execution_count": 10,
   "id": "29b54b5d",
   "metadata": {},
   "outputs": [],
   "source": [
    "import urllib.request\n",
    "from bs4 import BeautifulSoup\n",
    "#기상청 날씨페이지 로드\n",
    "page = urllib.request.urlopen('http://www.weather.go.kr/weather/\\\n",
    "observation/currentweather.jsp').read()\n",
    "soup = BeautifulSoup(page, \"html.parser\")\n",
    "\n",
    "#DB 연결\n",
    "import sqlite3\n",
    "conn = sqlite3.connect('Weather.db')\n",
    "conn.row_factory = sqlite3.Row\n",
    "cursor = conn.cursor()"
   ]
  },
  {
   "cell_type": "code",
   "execution_count": 8,
   "id": "8556887a",
   "metadata": {},
   "outputs": [
    {
     "name": "stdout",
     "output_type": "stream",
     "text": [
      "2021-10-07 05:00\n"
     ]
    }
   ],
   "source": [
    "#현재시간 태그 검색\n",
    "current_time = soup.find('input',{'class':'time'})\n",
    "#날짜 시간 분리 후 SQLite3 형식의 날짜 시간 문자열로 변환\n",
    "dt = current_time['value'].split('.')\n",
    "year, month, date, time = dt[0], dt[1], dt[2], dt[3]\n",
    "date_time = year + \"-\" + month + \"-\" + date + \" \" + time\n",
    "print(date_time)"
   ]
  },
  {
   "cell_type": "code",
   "execution_count": 9,
   "id": "c063d02c",
   "metadata": {},
   "outputs": [
    {
     "name": "stdout",
     "output_type": "stream",
     "text": [
      "도시 : 울산, 온도 : 18.1, 습도 : 98, 시간 : 2021-10-07 05:00\n"
     ]
    }
   ],
   "source": [
    "#현재 날씨테이블 검색\n",
    "table = soup.find('table', {'class':'table_develop3'})\n",
    "data = []\n",
    "\n",
    "for tr in table.find_all('tr'):\n",
    "    tds = tr.find_all('td')\n",
    "    for td in tds:\n",
    "        if td.find('a'):\n",
    "            city = td.find('a').text\n",
    "            temperature = tds[5].text\n",
    "            humidity = tds[9].text\n",
    "            data.append([city, temperature, humidity])\n",
    "            #레코드 삽입 SQL문 실행\n",
    "            cursor.execute('''\n",
    "            insert into CityWeather (city, temperature, humidity, dtime) values (?,?,?,?)''',\n",
    "                           (city, temperature, humidity, date_time))\n",
    "            \n",
    "conn.commit()#데이터베이스 내보내기\n",
    "#데이터 조회 SQL문 실행, 31로 검색 안되서 20로 변경\n",
    "cursor.execute(\"select * from CityWeather where temperature > 5\")\n",
    "rows = cursor.fetchall()\n",
    "\n",
    "for row in rows:\n",
    "    print(\"도시 : %s, 온도 : %s, 습도 : %s, 시간 : %s\"%\n",
    "         (row['city'],row['temperature'], row['humidity'], row['dtime']))\n",
    "    \n",
    "conn.close()"
   ]
  },
  {
   "cell_type": "code",
   "execution_count": 26,
   "id": "771adbd8",
   "metadata": {},
   "outputs": [
    {
     "name": "stdout",
     "output_type": "stream",
     "text": [
      "최저기온 도시 : 대관령, 최저기온 : 11.6, 최고기온 도시 : 서귀포, 최고기온 : 22.5\n"
     ]
    }
   ],
   "source": [
    "cursor.execute(\"select  max(temperature) as 최고기온, city as 최고도시, a.최저기온, a.최저도시 from CityWeather,\\\n",
    " (select min(temperature) as 최저기온, city as 최저도시 from CityWeather) a \")\n",
    "rows = cursor.fetchall()\n",
    "\n",
    "for row in rows:\n",
    "    print(\"최저기온 도시 : %s, 최저기온 : %s, 최고기온 도시 : %s, 최고기온 : %s\"%\n",
    "         (row['최저도시'],row['최저기온'],row['최고도시'],row['최고기온']))"
   ]
  },
  {
   "cell_type": "markdown",
   "id": "ca471cd9",
   "metadata": {},
   "source": [
    "# 임의의 프로그램\n",
    "\n",
    "- 이전의 생일 관련 미신 데이터 출력\n",
    "- 탄생석, 탄생화 DB화하여 출력"
   ]
  },
  {
   "cell_type": "code",
   "execution_count": 27,
   "id": "ad255a19",
   "metadata": {},
   "outputs": [],
   "source": [
    "import urllib.request\n",
    "from bs4 import BeautifulSoup\n",
    "import sqlite3\n",
    "\n",
    "conn = sqlite3.connect('AllOfMyth.db')#DB파일 연결\n",
    "conn.row_factory = sqlite3.Row\n",
    "cursor = conn.cursor()\n",
    "\n",
    "#위키피디아 탄생석 사이트\n",
    "bs_page = urllib.request.urlopen(\"https://ko.wikipedia.org/wiki/\\\n",
    "%ED%83%84%EC%83%9D%EC%84%9D\").read()\n",
    "bs_soup = BeautifulSoup(bs_page, \"html.parser\")\n",
    "\n",
    "#탄생석 정보 테이블 검색\n",
    "bs_table = bs_soup.find(\"table\", {\"class\":\"wikitable\"})\n",
    "\n",
    "#탄생석 데이터 저장\n",
    "bs_data = []\n",
    "\n",
    "#테이블 내의 데이터를 가져옴\n",
    "for tr in bs_table.find_all(\"tr\"):\n",
    "    tds = tr.find_all(\"td\")\n",
    "    for td in tds:\n",
    "        bs_data.append(td.text)\n",
    "        \n",
    "#수집한 데이터 DB에 삽입\n",
    "temp = 0\n",
    "while temp < len(bs_data):\n",
    "    cursor.execute('''\n",
    "            insert into stone(date, name, mean) values (?,?,?)''',\n",
    "                           (bs_data[temp], bs_data[temp+1], bs_data[temp+2]))\n",
    "    temp = temp + 3\n",
    "\n",
    "#커밋    \n",
    "conn.commit()"
   ]
  },
  {
   "cell_type": "code",
   "execution_count": 28,
   "id": "efc3b334",
   "metadata": {},
   "outputs": [],
   "source": [
    "#탄생화 정보 사이트\n",
    "bf_page = urllib.request.urlopen(\"https://m.blog.naver.com/\\\n",
    "PostView.naver?isHttpsRedirect=true&blogId=ufo5405&logNo=221652151845\").read()\n",
    "bf_soup = BeautifulSoup(bf_page, \"html.parser\")\n",
    "\n",
    "#탄생화 정보 검색\n",
    "bf_center = bf_soup.find_all(\"p\", {\"align\":\"center\"})\n",
    "#탄생화 데이터 저장\n",
    "bf_date = []\n",
    "bf_name = []\n",
    "bf_mean = []\n",
    "\n",
    "#탄생화 데이터 추출\n",
    "for bf in bf_center:\n",
    "    day_split = bf.text.split(\":\")\n",
    "    if len(day_split) >= 2:\n",
    "        bf_date.append(day_split[0])\n",
    "        name_split = day_split[1].split(\" - \")\n",
    "        bf_name.append(name_split[0])\n",
    "        bf_mean.append(name_split[1])\n",
    "\n",
    "#DB에 데이터 삽입\n",
    "temp = 0\n",
    "while temp < len(bf_date):\n",
    "    cursor.execute('''\n",
    "            insert into flower (date, name, mean) values (?,?,?)''',\n",
    "                           (bf_date[temp], bf_name[temp], bf_mean[temp]))\n",
    "    temp = temp + 1\n",
    "    \n",
    "#저장후 연결종료\n",
    "conn.commit()\n",
    "conn.close()"
   ]
  },
  {
   "cell_type": "code",
   "execution_count": 29,
   "id": "9a482aee",
   "metadata": {
    "scrolled": true
   },
   "outputs": [
    {
     "name": "stdout",
     "output_type": "stream",
     "text": [
      " * Serving Flask app \"__main__\" (lazy loading)\n",
      " * Environment: production\n",
      "\u001b[31m   WARNING: This is a development server. Do not use it in a production deployment.\u001b[0m\n",
      "\u001b[2m   Use a production WSGI server instead.\u001b[0m\n",
      " * Debug mode: off\n"
     ]
    },
    {
     "name": "stderr",
     "output_type": "stream",
     "text": [
      " * Running on http://127.0.0.1:5000/ (Press CTRL+C to quit)\n",
      "127.0.0.1 - - [07/Oct/2021 05:39:40] \"\u001b[33mGET / HTTP/1.1\u001b[0m\" 404 -\n",
      "127.0.0.1 - - [07/Oct/2021 05:39:44] \"\u001b[37mGET /main HTTP/1.1\u001b[0m\" 200 -\n",
      "127.0.0.1 - - [07/Oct/2021 05:39:52] \"\u001b[37mPOST /show HTTP/1.1\u001b[0m\" 200 -\n"
     ]
    }
   ],
   "source": [
    "from flask import Flask, render_template, request\n",
    "import urllib.request\n",
    "from bs4 import BeautifulSoup\n",
    "import sqlite3\n",
    "\n",
    "app = Flask(__name__)\n",
    "#시작페이지 : 생년월일 입력\n",
    "@app.route(\"/main\")\n",
    "def join_main():\n",
    "    return render_template(\"main.html\")\n",
    "\n",
    "#결과출력페이지 : 입력된 정보로 검색한 내용 나열\n",
    "@app.route(\"/show\", methods=[\"POST\"])\n",
    "def show_myth() -> 'html':\n",
    "    #오늘의 운세 페이지\n",
    "    today_page = urllib.request.urlopen(\"https://unse.daily.co.kr/?p=zodiac\").read()\n",
    "    today_soup = BeautifulSoup(today_page, \"html.parser\")\n",
    "    \n",
    "    #년월일 가져오기, 스플릿\n",
    "    ymd = request.form['ymd']\n",
    "    ymd_split = ymd.split('-')\n",
    "    \n",
    "    #띠 계산\n",
    "    animals = ['쥐','소','호랑이','토끼','용','뱀','말','양','원숭이','닭','개','돼지']\n",
    "    zodiac = animals[(int(ymd_split[0]) - 4) % 12]\n",
    "    z_code = \"code_\" + str(animals.index(zodiac) + 1)\n",
    "    z_year = ymd_split[0][2:]\n",
    "    \n",
    "    #웹페이지 운세목록 추출\n",
    "    fortune = today_soup.find(\"ul\", {\"id\":z_code})\n",
    "\n",
    "    #띠 공통 운세\n",
    "    total_text = fortune.find(\"p\").text\n",
    "\n",
    "    #띠 연도에 맞는 운세\n",
    "    year_text = \"\"\n",
    "    for i in fortune.find_all(\"li\"):\n",
    "        if i.find(\"span\").text == str(z_year) + \"년생\":\n",
    "            year_text = i.find(\"p\").text\n",
    "            \n",
    "    #탄생화와 탄생석 DB에 연결\n",
    "    conn = sqlite3.connect('AllOfMyth.db')\n",
    "    conn.row_factory = sqlite3.Row\n",
    "    cursor = conn.cursor()\n",
    "    \n",
    "    #월과 일 입력시 0이 앞에 있는 경우 필터링 (01월 -> 1월)\n",
    "    clear_month = ymd_split[1].replace(\"0\",\"\") if ymd_split[1][0] == \"0\" else ymd_split[1]\n",
    "    clear_day = ymd_split[2].replace(\"0\",\"\") if ymd_split[2][0] == \"0\" else ymd_split[2]\n",
    "    \n",
    "    #탄생화와 탄생석에 대한 데이터 추출\n",
    "    f_date = clear_month + \"월 \" + clear_day + \"일\"\n",
    "    flower = cursor.execute(\"select * from flower where date like \\\"%s%%\\\"\" % (f_date)).fetchone()\n",
    "    stone = cursor.execute(\"select * from stone where date like \\\"%s%%\\\"\" % (clear_month)).fetchone()\n",
    "    \n",
    "    conn.close()\n",
    "    \n",
    "    return render_template(\"show.html\", ymd_split = ymd_split, zodiac = zodiac, total_text = total_text,\n",
    "                          year_text = year_text, flower = flower, stone = stone)\n",
    "\n",
    "if __name__ == \"__main__\":\n",
    "    app.run()"
   ]
  },
  {
   "cell_type": "code",
   "execution_count": null,
   "id": "f7fe9211",
   "metadata": {},
   "outputs": [],
   "source": [
    "from flask import Flask, render_template, request\n",
    "import urllib.request\n",
    "from bs4 import BeautifulSoup\n",
    "import sqlite3\n",
    "\n",
    "app = Flask(__name__)\n",
    "#시작페이지 : 생년월일 입력\n",
    "@app.route(\"/main\")\n",
    "def join_main():\n",
    "    return render_template(\"main.html\")\n",
    "\n",
    "#결과출력페이지 : 입력된 정보로 검색한 내용 나열\n",
    "@app.route(\"/show\", methods=[\"POST\"])\n",
    "def show_myth() -> 'html':\n",
    "    #오늘의 운세 페이지\n",
    "    today_page = urllib.request.urlopen(\"https://unse.daily.co.kr/?p=zodiac\").read()\n",
    "    today_soup = BeautifulSoup(today_page, \"html.parser\")\n",
    "    \n",
    "    #년월일 가져오기, 스플릿\n",
    "    ymd = request.form['ymd']\n",
    "    ymd_split = ymd.split('-')\n",
    "    \n",
    "    #띠 계산\n",
    "    animals = ['쥐','소','호랑이','토끼','용','뱀','말','양','원숭이','닭','개','돼지']\n",
    "    zodiac = animals[(int(ymd_split[0]) - 4) % 12]\n",
    "    z_code = \"code_\" + str(animals.index(zodiac) + 1)\n",
    "    z_year = ymd_split[0][2:]\n",
    "    \n",
    "    #웹페이지 운세목록 추출\n",
    "    fortune = today_soup.find(\"ul\", {\"id\":z_code})\n",
    "\n",
    "    #띠 공통 운세\n",
    "    total_text = fortune.find(\"p\").text\n",
    "\n",
    "    #띠 연도에 맞는 운세\n",
    "    year_text = \"\"\n",
    "    for i in fortune.find_all(\"li\"):\n",
    "        if i.find(\"span\").text == str(z_year) + \"년생\":\n",
    "            year_text = i.find(\"p\").text\n",
    "            \n",
    "    #탄생화와 탄생석 DB에 연결\n",
    "    conn = sqlite3.connect('AllOfMyth.db')\n",
    "    conn.row_factory = sqlite3.Row\n",
    "    cursor = conn.cursor()\n",
    "    \n",
    "    #월과 일 입력시 0이 앞에 있는 경우 필터링 (01월 -> 1월)\n",
    "    clear_month = ymd_split[1].replace(\"0\",\"\") if ymd_split[1][0] == \"0\" else ymd_split[1]\n",
    "    clear_day = ymd_split[2].replace(\"0\",\"\") if ymd_split[2][0] == \"0\" else ymd_split[2]\n",
    "    \n",
    "    #탄생화와 탄생석에 대한 데이터 추출\n",
    "    f_date = clear_month + \"월 \" + clear_day + \"일\"\n",
    "    flower = cursor.execute(\"select * from flower where date like \\\"%s%%\\\"\" % (f_date)).fetchone()\n",
    "    stone = cursor.execute(\"select * from stone where date like \\\"%s%%\\\"\" % (clear_month)).fetchone()\n",
    "    \n",
    "    conn.close()\n",
    "    \n",
    "    return render_template(\"show.html\", ymd_split = ymd_split, zodiac = zodiac, total_text = total_text,\n",
    "                          year_text = year_text, flower = flower, stone = stone)\n",
    "\n",
    "if __name__ == \"__main__\":\n",
    "    app.run()"
   ]
  }
 ],
 "metadata": {
  "kernelspec": {
   "display_name": "Python 3",
   "language": "python",
   "name": "python3"
  },
  "language_info": {
   "codemirror_mode": {
    "name": "ipython",
    "version": 3
   },
   "file_extension": ".py",
   "mimetype": "text/x-python",
   "name": "python",
   "nbconvert_exporter": "python",
   "pygments_lexer": "ipython3",
   "version": "3.8.8"
  }
 },
 "nbformat": 4,
 "nbformat_minor": 5
}
