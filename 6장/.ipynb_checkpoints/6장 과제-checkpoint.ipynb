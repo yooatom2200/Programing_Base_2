{
 "cells": [
  {
   "cell_type": "markdown",
   "id": "ef854d8b",
   "metadata": {},
   "source": [
    "# Surf1 예제"
   ]
  },
  {
   "cell_type": "code",
   "execution_count": null,
   "id": "7f9c11a1",
   "metadata": {},
   "outputs": [],
   "source": [
    "from flask import Flask, render_template, request\n",
    "\n",
    "app = Flask(__name__)\n",
    "\n",
    "@app.route('/surf1')\n",
    "def surf1():\n",
    "    return render_template('surf1.html')\n",
    "\n",
    "@app.route('/result', methods=['GET'])\n",
    "def show_data():\n",
    "    na = request.args.get('name')\n",
    "    sc = request.args.get('score')\n",
    "    gn = request.args.get('gender')\n",
    "    cn = request.args.get('country')\n",
    "    return render_template('res1.html',\n",
    "        name = na,score = sc, gender = gn, country = cn)\n",
    "\n",
    "if __name__=='__main__':\n",
    "    app.run()"
   ]
  },
  {
   "cell_type": "markdown",
   "id": "4667e84e",
   "metadata": {},
   "source": [
    "# Surf2 예제"
   ]
  },
  {
   "cell_type": "code",
   "execution_count": 4,
   "id": "9b0daf73",
   "metadata": {},
   "outputs": [
    {
     "name": "stdout",
     "output_type": "stream",
     "text": [
      " * Serving Flask app \"__main__\" (lazy loading)\n",
      " * Environment: production\n",
      "\u001b[31m   WARNING: This is a development server. Do not use it in a production deployment.\u001b[0m\n",
      "\u001b[2m   Use a production WSGI server instead.\u001b[0m\n",
      " * Debug mode: off\n"
     ]
    },
    {
     "name": "stderr",
     "output_type": "stream",
     "text": [
      " * Running on http://127.0.0.1:5000/ (Press CTRL+C to quit)\n",
      "127.0.0.1 - - [30/Oct/2021 00:22:30] \"\u001b[37mGET /surf2 HTTP/1.1\u001b[0m\" 200 -\n",
      "127.0.0.1 - - [30/Oct/2021 00:22:31] \"\u001b[37mGET /surf2 HTTP/1.1\u001b[0m\" 200 -\n",
      "127.0.0.1 - - [30/Oct/2021 00:22:31] \"\u001b[37mGET /surf2 HTTP/1.1\u001b[0m\" 200 -\n",
      "127.0.0.1 - - [30/Oct/2021 00:22:31] \"\u001b[37mGET /surf2 HTTP/1.1\u001b[0m\" 200 -\n",
      "127.0.0.1 - - [30/Oct/2021 00:22:31] \"\u001b[37mGET /surf2 HTTP/1.1\u001b[0m\" 200 -\n",
      "127.0.0.1 - - [30/Oct/2021 00:22:32] \"\u001b[37mGET /surf2 HTTP/1.1\u001b[0m\" 200 -\n",
      "127.0.0.1 - - [30/Oct/2021 00:22:32] \"\u001b[37mGET /surf2 HTTP/1.1\u001b[0m\" 200 -\n",
      "127.0.0.1 - - [30/Oct/2021 00:22:32] \"\u001b[37mGET /surf2 HTTP/1.1\u001b[0m\" 200 -\n",
      "127.0.0.1 - - [30/Oct/2021 00:22:32] \"\u001b[37mGET /surf2 HTTP/1.1\u001b[0m\" 200 -\n",
      "127.0.0.1 - - [30/Oct/2021 00:31:45] \"\u001b[31m\u001b[1mPOST /result HTTP/1.1\u001b[0m\" 400 -\n",
      "127.0.0.1 - - [30/Oct/2021 00:31:52] \"\u001b[37mPOST /result HTTP/1.1\u001b[0m\" 200 -\n",
      "127.0.0.1 - - [30/Oct/2021 01:55:06] \"\u001b[37mPOST /result HTTP/1.1\u001b[0m\" 200 -\n",
      "127.0.0.1 - - [30/Oct/2021 02:12:32] \"\u001b[33mGET / HTTP/1.1\u001b[0m\" 404 -\n",
      "127.0.0.1 - - [30/Oct/2021 02:12:35] \"\u001b[37mGET /surf2 HTTP/1.1\u001b[0m\" 200 -\n",
      "127.0.0.1 - - [30/Oct/2021 02:19:34] \"\u001b[37mPOST /result HTTP/1.1\u001b[0m\" 200 -\n",
      "127.0.0.1 - - [30/Oct/2021 02:23:46] \"\u001b[37mPOST /result HTTP/1.1\u001b[0m\" 200 -\n",
      "127.0.0.1 - - [30/Oct/2021 02:24:18] \"\u001b[37mGET /surf2 HTTP/1.1\u001b[0m\" 200 -\n",
      "127.0.0.1 - - [30/Oct/2021 02:24:28] \"\u001b[37mPOST /result HTTP/1.1\u001b[0m\" 200 -\n"
     ]
    }
   ],
   "source": [
    "from flask import Flask, render_template, request\n",
    "\n",
    "app = Flask(__name__)\n",
    "\n",
    "@app.route('/surf2')\n",
    "def surf2():\n",
    "    return render_template('surf2.html')\n",
    "\n",
    "@app.route('/result', methods=['POST'])\n",
    "def show_data():\n",
    "    na = request.form['name']\n",
    "    sc = request.form['score']\n",
    "    gn = request.form['gender']\n",
    "    cn = request.form['country']\n",
    "    return render_template('res2.html',name=na,score=sc,\n",
    "                gender = gn, country = cn)\n",
    "\n",
    "if __name__ == '__main__':\n",
    "    app.run()"
   ]
  },
  {
   "cell_type": "markdown",
   "id": "4dc4d87b",
   "metadata": {},
   "source": [
    "# 서핑대회 종합"
   ]
  },
  {
   "cell_type": "code",
   "execution_count": null,
   "id": "a354a8db",
   "metadata": {},
   "outputs": [
    {
     "name": "stdout",
     "output_type": "stream",
     "text": [
      " * Serving Flask app \"__main__\" (lazy loading)\n",
      " * Environment: production\n",
      "\u001b[31m   WARNING: This is a development server. Do not use it in a production deployment.\u001b[0m\n",
      "\u001b[2m   Use a production WSGI server instead.\u001b[0m\n",
      " * Debug mode: off\n"
     ]
    },
    {
     "name": "stderr",
     "output_type": "stream",
     "text": [
      " * Running on http://127.0.0.1:5000/ (Press CTRL+C to quit)\n",
      "127.0.0.1 - - [30/Oct/2021 03:29:29] \"\u001b[37mGET /SoonSurf HTTP/1.1\u001b[0m\" 200 -\n",
      "127.0.0.1 - - [30/Oct/2021 03:29:33] \"\u001b[37mPOST /login HTTP/1.1\u001b[0m\" 200 -\n",
      "127.0.0.1 - - [30/Oct/2021 03:29:41] \"\u001b[37mPOST /show HTTP/1.1\u001b[0m\" 200 -\n",
      "127.0.0.1 - - [30/Oct/2021 03:29:48] \"\u001b[37mPOST /show HTTP/1.1\u001b[0m\" 200 -\n",
      "127.0.0.1 - - [30/Oct/2021 03:29:57] \"\u001b[31m\u001b[1mPOST /insert HTTP/1.1\u001b[0m\" 400 -\n",
      "127.0.0.1 - - [30/Oct/2021 03:30:26] \"\u001b[31m\u001b[1mPOST /insert HTTP/1.1\u001b[0m\" 400 -\n"
     ]
    }
   ],
   "source": [
    "import sqlite3\n",
    "from flask import Flask, render_template, request\n",
    "\n",
    "app=Flask(__name__)\n",
    "\n",
    "@app.route('/SoonSurf')\n",
    "def surf():\n",
    "    return render_template('loginForm.html')\n",
    "\n",
    "@app.route('/login', methods=['POST'])\n",
    "def login():\n",
    "    idn = request.form['id']\n",
    "    pwd = request.form['passwd']\n",
    "    \n",
    "    conn = sqlite3.connect('member.db')\n",
    "    conn.row_factory = sqlite3.Row\n",
    "    cursor = conn.cursor()\n",
    "    cursor.execute('select * from meminfo where id = ?', (idn,))\n",
    "    row = cursor.fetchone()\n",
    "    conn.close()\n",
    "    \n",
    "    if row != None:\n",
    "        if idn == row['id'] and pwd == row['passwd']:\n",
    "            return render_template('surfForm.html')\n",
    "        \n",
    "    return(\"<h2>로그인 에러!!</h2>\")\n",
    "\n",
    "@app.route('/member', methods=['POST'])\n",
    "def member():\n",
    "    return render_template('memForm.html')\n",
    "\n",
    "@app.route('/register', methods=['POST'])\n",
    "def register():\n",
    "    import datetime\n",
    "    \n",
    "    idn = request.form['id']\n",
    "    pwd = request.form['passwd']\n",
    "    na = request.form['name']\n",
    "    tm = datetime.datetime.now()\n",
    "    \n",
    "    conn = sqlite3.connect('member.db')\n",
    "    cursor = conn.cursor()\n",
    "    cursor.execute(\"\"\"insert into meminfo (id, passwd, name, time)\n",
    "    values(?, ?, ?, ?)\"\"\", (idn, pwd, na, tm))\n",
    "    conn.commit()\n",
    "    conn.close()\n",
    "    \n",
    "    mstr = \"id = %s, passwd = %s, name = %s, time = %s\" % (idn, pwd, na, tm)\n",
    "    outstr = \"<h3>회원가입이 되었습니다.</h3><hr><p>\" + mstr\n",
    "\n",
    "    return outstr\n",
    "\n",
    "@app.route('/show', methods=['POST'])\n",
    "def show():\n",
    "    na = request.form['name']\n",
    "    \n",
    "    conn = sqlite3.connect('SoonSurf.db')\n",
    "    conn.row_factory = sqlite3.Row\n",
    "    cursor = conn.cursor()\n",
    "    cursor.execute(\"select * from surfinfo where name = ?\", (na,))\n",
    "    row = cursor.fetchone()\n",
    "    conn.close()\n",
    "    \n",
    "    outstr = \"<h2>선수조회</h2><br><hr>\"\n",
    "    \n",
    "    if row != None:\n",
    "        outstr += \"name : %s <br>\" % row['name']\n",
    "        outstr += \"score : %s <br>\" % row['score']\n",
    "        outstr += \"gender : %s <br>\" % row['gender']\n",
    "        outstr += \"country : %s <br>\" % row['country']\n",
    "    else:\n",
    "        outstr += \"선수 데이터가 없습니다!!\"\n",
    "        \n",
    "    return outstr\n",
    "\n",
    "@app.route('/insert', methods=[\"POST\"])\n",
    "def insert():\n",
    "    na = request.form['name']\n",
    "    sc = request.form['score']\n",
    "    gn = request.form['gender']\n",
    "    ct = request.form['country']\n",
    "    \n",
    "    conn = sqlite3.connect('SoonSurf.db')\n",
    "    cursor = conn.cursor()\n",
    "    cursor.execute(\"\"\"\n",
    "    insert into surfinfo (name, score, gender, country)\n",
    "    values (?, ?, ?, ?)\"\"\", (na, float(sc), gn, ct))\n",
    "    conn.commit()\n",
    "    conn.close()\n",
    "    \n",
    "    outstr = \"<h2>선수 입력</h2><br><hr>\"\n",
    "    outstr += \"name : %s <br>\" % na\n",
    "    outstr += \"score : %s <br>\" % sc\n",
    "    outstr += \"gender : %s <br>\" % gn\n",
    "    outstr += \"country : %s <br>\" % ct\n",
    "    \n",
    "    return outstr\n",
    "\n",
    "if __name__ == \"__main__\":\n",
    "    app.run()"
   ]
  },
  {
   "cell_type": "code",
   "execution_count": null,
   "id": "432eed2c",
   "metadata": {},
   "outputs": [],
   "source": []
  }
 ],
 "metadata": {
  "kernelspec": {
   "display_name": "Python 3",
   "language": "python",
   "name": "python3"
  },
  "language_info": {
   "codemirror_mode": {
    "name": "ipython",
    "version": 3
   },
   "file_extension": ".py",
   "mimetype": "text/x-python",
   "name": "python",
   "nbconvert_exporter": "python",
   "pygments_lexer": "ipython3",
   "version": "3.8.8"
  }
 },
 "nbformat": 4,
 "nbformat_minor": 5
}
