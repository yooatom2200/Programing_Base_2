{
 "cells": [
  {
   "cell_type": "code",
   "execution_count": null,
   "id": "482eb53b",
   "metadata": {},
   "outputs": [],
   "source": [
    "from flask import Flask, render_template, request\n",
    "\n",
    "app = Flask(__name__)\n",
    "\n",
    "@app.route('/surf1')\n",
    "def surf1():\n",
    "    return render_template('surf1.html')\n",
    "\n",
    "@app.route('/result', methods=['GET'])\n",
    "def show_data():\n",
    "    na = request.args.get('name')\n",
    "    sc = request.args.get('score')\n",
    "    gn = request.args.get('gender')\n",
    "    cn = request.args.get('country')\n",
    "    return render_template('res1.html', name = na, score = sc, gender = gn, country = cn)\n",
    "\n",
    "if __name__='__main__':\n",
    "    app.run()"
   ]
  }
 ],
 "metadata": {
  "kernelspec": {
   "display_name": "Python 3",
   "language": "python",
   "name": "python3"
  },
  "language_info": {
   "codemirror_mode": {
    "name": "ipython",
    "version": 3
   },
   "file_extension": ".py",
   "mimetype": "text/x-python",
   "name": "python",
   "nbconvert_exporter": "python",
   "pygments_lexer": "ipython3",
   "version": "3.8.8"
  }
 },
 "nbformat": 4,
 "nbformat_minor": 5
}
