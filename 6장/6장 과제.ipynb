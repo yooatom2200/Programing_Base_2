{
 "cells": [
  {
   "cell_type": "markdown",
   "id": "d6f96bfd",
   "metadata": {},
   "source": [
    "# Surf1 예제"
   ]
  },
  {
   "cell_type": "code",
   "execution_count": null,
   "id": "71146c63",
   "metadata": {},
   "outputs": [],
   "source": [
    "from flask import Flask, render_template, request\n",
    "\n",
    "app = Flask(__name__)\n",
    "\n",
    "@app.route('/surf1')\n",
    "def surf1():\n",
    "    return render_template('surf1.html')\n",
    "\n",
    "@app.route('/result', methods=['GET'])\n",
    "def show_data():\n",
    "    na = request.args.get('name')\n",
    "    sc = request.args.get('score')\n",
    "    gn = request.args.get('gender')\n",
    "    cn = request.args.get('country')\n",
    "    return render_template('res1.html',\n",
    "        name = na,score = sc, gender = gn, country = cn)\n",
    "\n",
    "if __name__=='__main__':\n",
    "    app.run()"
   ]
  },
  {
   "cell_type": "markdown",
   "id": "9ef829fe",
   "metadata": {},
   "source": [
    "# Surf2 예제"
   ]
  },
  {
   "cell_type": "code",
   "execution_count": null,
   "id": "ad668f01",
   "metadata": {},
   "outputs": [
    {
     "name": "stdout",
     "output_type": "stream",
     "text": [
      " * Serving Flask app \"__main__\" (lazy loading)\n",
      " * Environment: production\n",
      "\u001b[31m   WARNING: This is a development server. Do not use it in a production deployment.\u001b[0m\n",
      "\u001b[2m   Use a production WSGI server instead.\u001b[0m\n",
      " * Debug mode: off\n"
     ]
    },
    {
     "name": "stderr",
     "output_type": "stream",
     "text": [
      " * Running on http://127.0.0.1:5000/ (Press CTRL+C to quit)\n",
      "127.0.0.1 - - [30/Oct/2021 00:22:30] \"\u001b[37mGET /surf2 HTTP/1.1\u001b[0m\" 200 -\n",
      "127.0.0.1 - - [30/Oct/2021 00:22:31] \"\u001b[37mGET /surf2 HTTP/1.1\u001b[0m\" 200 -\n",
      "127.0.0.1 - - [30/Oct/2021 00:22:31] \"\u001b[37mGET /surf2 HTTP/1.1\u001b[0m\" 200 -\n",
      "127.0.0.1 - - [30/Oct/2021 00:22:31] \"\u001b[37mGET /surf2 HTTP/1.1\u001b[0m\" 200 -\n",
      "127.0.0.1 - - [30/Oct/2021 00:22:31] \"\u001b[37mGET /surf2 HTTP/1.1\u001b[0m\" 200 -\n",
      "127.0.0.1 - - [30/Oct/2021 00:22:32] \"\u001b[37mGET /surf2 HTTP/1.1\u001b[0m\" 200 -\n",
      "127.0.0.1 - - [30/Oct/2021 00:22:32] \"\u001b[37mGET /surf2 HTTP/1.1\u001b[0m\" 200 -\n",
      "127.0.0.1 - - [30/Oct/2021 00:22:32] \"\u001b[37mGET /surf2 HTTP/1.1\u001b[0m\" 200 -\n",
      "127.0.0.1 - - [30/Oct/2021 00:22:32] \"\u001b[37mGET /surf2 HTTP/1.1\u001b[0m\" 200 -\n",
      "127.0.0.1 - - [30/Oct/2021 00:31:45] \"\u001b[31m\u001b[1mPOST /result HTTP/1.1\u001b[0m\" 400 -\n",
      "127.0.0.1 - - [30/Oct/2021 00:31:52] \"\u001b[37mPOST /result HTTP/1.1\u001b[0m\" 200 -\n",
      "127.0.0.1 - - [30/Oct/2021 01:55:06] \"\u001b[37mPOST /result HTTP/1.1\u001b[0m\" 200 -\n",
      "127.0.0.1 - - [30/Oct/2021 02:12:32] \"\u001b[33mGET / HTTP/1.1\u001b[0m\" 404 -\n",
      "127.0.0.1 - - [30/Oct/2021 02:12:35] \"\u001b[37mGET /surf2 HTTP/1.1\u001b[0m\" 200 -\n",
      "127.0.0.1 - - [30/Oct/2021 02:19:34] \"\u001b[37mPOST /result HTTP/1.1\u001b[0m\" 200 -\n",
      "127.0.0.1 - - [30/Oct/2021 02:23:46] \"\u001b[37mPOST /result HTTP/1.1\u001b[0m\" 200 -\n",
      "127.0.0.1 - - [30/Oct/2021 02:24:18] \"\u001b[37mGET /surf2 HTTP/1.1\u001b[0m\" 200 -\n",
      "127.0.0.1 - - [30/Oct/2021 02:24:28] \"\u001b[37mPOST /result HTTP/1.1\u001b[0m\" 200 -\n"
     ]
    }
   ],
   "source": [
    "from flask import Flask, render_template, request\n",
    "\n",
    "app = Flask(__name__)\n",
    "\n",
    "@app.route('/surf2')\n",
    "def surf2():\n",
    "    return render_template('surf2.html')\n",
    "\n",
    "@app.route('/result', methods=['POST'])\n",
    "def show_data():\n",
    "    na = request.form['name']\n",
    "    sc = request.form['score']\n",
    "    gn = request.form['gender']\n",
    "    cn = request.form['country']\n",
    "    return render_template('res2.html',name=na,score=sc,\n",
    "                gender = gn, country = cn)\n",
    "\n",
    "if __name__ == '__main__':\n",
    "    app.run()"
   ]
  },
  {
   "cell_type": "code",
   "execution_count": null,
   "id": "09265b0f",
   "metadata": {},
   "outputs": [],
   "source": []
  }
 ],
 "metadata": {
  "kernelspec": {
   "display_name": "Python 3",
   "language": "python",
   "name": "python3"
  },
  "language_info": {
   "codemirror_mode": {
    "name": "ipython",
    "version": 3
   },
   "file_extension": ".py",
   "mimetype": "text/x-python",
   "name": "python",
   "nbconvert_exporter": "python",
   "pygments_lexer": "ipython3",
   "version": "3.8.8"
  }
 },
 "nbformat": 4,
 "nbformat_minor": 5
}
