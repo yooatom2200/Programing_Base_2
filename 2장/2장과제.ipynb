 {
 "cells": [
  {
   "cell_type": "markdown",
   "id": "8af7b494",
   "metadata": {},
   "source": [
    "## 주피터 테스트"
   ]
  },
  {
   "cell_type": "code",
   "execution_count": 1,
   "id": "bd0baa24",
   "metadata": {},
   "outputs": [],
   "source": [
    "class Dog():\n",
    "    #속성\n",
    "    age = 0\n",
    "    name = \"\"\n",
    "    weight = 0\n",
    "    #메서드\n",
    "    def bark(self):\n",
    "        print(\"%s -> 멍멍\" % self.name)"
   ]
  },
  {
   "cell_type": "code",
   "execution_count": 2,
   "id": "a6edd465",
   "metadata": {},
   "outputs": [
    {
     "name": "stdout",
     "output_type": "stream",
     "text": [
      "Merry -> 멍멍\n"
     ]
    }
   ],
   "source": [
    "myDog = Dog()\n",
    "myDog.name = \"Merry\"\n",
    "myDog.weight = 20\n",
    "myDog.age = 5\n",
    "myDog.bark()"
   ]
  },
  {
   "cell_type": "code",
   "execution_count": 3,
   "id": "3eee785a",
   "metadata": {},
   "outputs": [
    {
     "name": "stdout",
     "output_type": "stream",
     "text": [
      "Happy -> 멍멍\n"
     ]
    }
   ],
   "source": [
    "yourDog = Dog()\n",
    "yourDog.name = \"Happy\"\n",
    "yourDog.weight = 30\n",
    "yourDog.age = 5\n",
    "yourDog.bark()"
   ]
  },
  {
   "cell_type": "markdown",
   "id": "e4986d41",
   "metadata": {},
   "source": [
    "## 임의 프로그램"
   ]
  },
  {
   "cell_type": "code",
   "execution_count": 2,
   "id": "bae396c1",
   "metadata": {
    "scrolled": true
   },
   "outputs": [
    {
     "name": "stdout",
     "output_type": "stream",
     "text": [
      "기본재료 | 빵 : 1 | 계란 : 1\n",
      "돈까스 생성! 고기 : 돼지고기\n",
      "기본재료 | 빵 : 1 | 계란 : 1\n",
      "히레카츠 생성! 고기 : 돼지고기 | 부위 : 안심\n",
      "기본재료 | 빵 : 1 | 계란 : 1\n",
      "로스카츠 생성! 고기 : 돼지고기 | 부위 : 등심\n",
      "기본재료 | 빵 : 1 | 계란 : 2\n",
      "치킨까스 생성! 고기 : 닭고기\n"
     ]
    }
   ],
   "source": [
    "class Katsu_Element():\n",
    "    Bread = 1\n",
    "    Egg = 1\n",
    "    def Print_Element(self):\n",
    "        print(\"기본재료 | 빵 : %d | 계란 : %d\" % (self.Bread, self.Egg))\n",
    "\n",
    "class Don_Katsu(Katsu_Element):\n",
    "    Meat = \"돼지고기\"\n",
    "    def __init__(self):\n",
    "        self.Print_Element()\n",
    "        print(\"돈까스 생성! 고기 : %s\" % self.Meat)\n",
    "    \n",
    "class Hire_Katsu(Don_Katsu):\n",
    "    Part = \"안심\"\n",
    "    def __init__(self):\n",
    "        self.Print_Element()\n",
    "        print(\"히레카츠 생성! 고기 : %s | 부위 : %s\" % (self.Meat, self.Part))\n",
    "\n",
    "class Rosu_Katsu(Don_Katsu):\n",
    "    Part = \"등심\"\n",
    "    def __init__(self):\n",
    "        self.Print_Element()\n",
    "        print(\"로스카츠 생성! 고기 : %s | 부위 : %s\" % (self.Meat, self.Part))\n",
    "\n",
    "class Chicken_Katsu(Katsu_Element):\n",
    "    Meat = \"닭고기\"\n",
    "    def __init__(self):\n",
    "        self.Egg = 2\n",
    "        self.Print_Element()\n",
    "        print(\"치킨까스 생성! 고기 : %s\" % self.Meat)\n",
    "\n",
    "menu1 = Don_Katsu()\n",
    "menu2 = Hire_Katsu()\n",
    "menu3 = Rosu_Katsu()\n",
    "menu4 = Chicken_Katsu()"
   ]
  },
  {
   "cell_type": "code",
   "execution_count": null,
   "id": "34b996a3",
   "metadata": {},
   "outputs": [],
   "source": []
  }
 ],
 "metadata": {
  "kernelspec": {
   "display_name": "Python 3",
   "language": "python",
   "name": "python3"
  },
  "language_info": {
   "codemirror_mode": {
    "name": "ipython",
    "version": 3
   },
   "file_extension": ".py",
   "mimetype": "text/x-python",
   "name": "python",
   "nbconvert_exporter": "python",
   "pygments_lexer": "ipython3",
   "version": "3.8.8"
  }
 },
 "nbformat": 4,
 "nbformat_minor": 5
}
